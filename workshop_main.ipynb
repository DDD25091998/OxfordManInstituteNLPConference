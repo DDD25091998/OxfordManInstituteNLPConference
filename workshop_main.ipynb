{
 "cells": [
  {
   "cell_type": "markdown",
   "id": "71ae4cd8",
   "metadata": {},
   "source": [
    "# Oxford Man Institute NLP Tutorial "
   ]
  },
  {
   "cell_type": "markdown",
   "id": "c26d7c68",
   "metadata": {},
   "source": [
    "## 1. Introduction "
   ]
  },
  {
   "cell_type": "markdown",
   "id": "23e5b5a0",
   "metadata": {},
   "source": [
    "There are several ways of performing sentiment classification on a document or article, ranging from word-counts to modern Transformer-based Language Models. In this tutorial we will take you through a range of classification techniques:\n",
    "- Loughran & McDonald financial sentiment dictionary\n",
    "- Naive Bayes Classifier\n",
    "- BERT out of the box\n",
    "- BERT fine-tuned on general sentiment datasets\n",
    "- FinBERT \n",
    "    - BERT that has been trained on positive and negative financial documents"
   ]
  },
  {
   "cell_type": "markdown",
   "id": "4029a21a-8149-4aa9-b726-2064e745b9ef",
   "metadata": {},
   "source": [
    "## 2. Load and analyse the dataset"
   ]
  },
  {
   "cell_type": "markdown",
   "id": "272fa01e",
   "metadata": {},
   "source": [
    "### Import packages and load dictionaries"
   ]
  },
  {
   "cell_type": "code",
   "execution_count": 22,
   "id": "e8c3d4dc",
   "metadata": {},
   "outputs": [],
   "source": [
    "import numpy as np\n",
    "import pandas as pd\n",
    "import re\n",
    "import inspect\n",
    "import csv\n",
    "import operator\n",
    "from tutorial_tools import mutual_information\n",
    "\n",
    "from sklearn.model_selection import train_test_split\n",
    "from sklearn.metrics import classification_report, f1_score\n",
    "from collections import defaultdict, Counter"
   ]
  },
  {
   "cell_type": "markdown",
   "id": "6c00663a-8d6a-4ea3-8b10-680d917b5183",
   "metadata": {},
   "source": [
    "### Load the dataset"
   ]
  },
  {
   "cell_type": "code",
   "execution_count": 2,
   "id": "d17b5ac4-3480-44c0-9083-4b9e4780e34b",
   "metadata": {},
   "outputs": [
    {
     "name": "stderr",
     "output_type": "stream",
     "text": [
      "C:\\Users\\felix\\AppData\\Local\\Temp\\ipykernel_20336\\3544662773.py:1: ParserWarning: Falling back to the 'python' engine because the 'c' engine does not support regex separators (separators > 1 char and different from '\\s+' are interpreted as regex); you can avoid this warning by specifying engine='python'.\n",
      "  df = pd.read_csv('data\\\\FinancialPhraseBank-v1.0\\\\Sentences_AllAgree.txt',\n"
     ]
    },
    {
     "data": {
      "text/html": [
       "<div>\n",
       "<style scoped>\n",
       "    .dataframe tbody tr th:only-of-type {\n",
       "        vertical-align: middle;\n",
       "    }\n",
       "\n",
       "    .dataframe tbody tr th {\n",
       "        vertical-align: top;\n",
       "    }\n",
       "\n",
       "    .dataframe thead th {\n",
       "        text-align: right;\n",
       "    }\n",
       "</style>\n",
       "<table border=\"1\" class=\"dataframe\">\n",
       "  <thead>\n",
       "    <tr style=\"text-align: right;\">\n",
       "      <th></th>\n",
       "      <th>text</th>\n",
       "      <th>class</th>\n",
       "    </tr>\n",
       "  </thead>\n",
       "  <tbody>\n",
       "    <tr>\n",
       "      <th>0</th>\n",
       "      <td>According to Gran , the company has no plans t...</td>\n",
       "      <td>neutral</td>\n",
       "    </tr>\n",
       "    <tr>\n",
       "      <th>1</th>\n",
       "      <td>For the last quarter of 2010 , Componenta 's n...</td>\n",
       "      <td>positive</td>\n",
       "    </tr>\n",
       "    <tr>\n",
       "      <th>2</th>\n",
       "      <td>In the third quarter of 2010 , net sales incre...</td>\n",
       "      <td>positive</td>\n",
       "    </tr>\n",
       "    <tr>\n",
       "      <th>3</th>\n",
       "      <td>Operating profit rose to EUR 13.1 mn from EUR ...</td>\n",
       "      <td>positive</td>\n",
       "    </tr>\n",
       "    <tr>\n",
       "      <th>4</th>\n",
       "      <td>Operating profit totalled EUR 21.1 mn , up fro...</td>\n",
       "      <td>positive</td>\n",
       "    </tr>\n",
       "  </tbody>\n",
       "</table>\n",
       "</div>"
      ],
      "text/plain": [
       "                                                text     class\n",
       "0  According to Gran , the company has no plans t...   neutral\n",
       "1  For the last quarter of 2010 , Componenta 's n...  positive\n",
       "2  In the third quarter of 2010 , net sales incre...  positive\n",
       "3  Operating profit rose to EUR 13.1 mn from EUR ...  positive\n",
       "4  Operating profit totalled EUR 21.1 mn , up fro...  positive"
      ]
     },
     "execution_count": 2,
     "metadata": {},
     "output_type": "execute_result"
    }
   ],
   "source": [
    "df = pd.read_csv('data\\\\FinancialPhraseBank-v1.0\\\\Sentences_AllAgree.txt',\n",
    "            encoding = 'ISO-8859-1',on_bad_lines='skip',sep = '.@', names=['text', 'class'])\n",
    "df.head()"
   ]
  },
  {
   "cell_type": "markdown",
   "id": "ac12bc77-18c8-400c-9ff8-cefcc2148b19",
   "metadata": {},
   "source": [
    "#### Data formatting"
   ]
  },
  {
   "cell_type": "markdown",
   "id": "26553ef6-a6e1-4dec-ba10-604704c86e41",
   "metadata": {},
   "source": [
    "The dataset we are using has already been cleaned as it is widely used in the field. If you are using your own custom dataset it may be necessary to clean the text of special characters, URLs, user mentions, emojis etc. \n",
    "\n",
    "We will add another columns to our dataset that contains a **tokenised version** of the text as this will form the basis of our Naive Bayes classifier."
   ]
  },
  {
   "cell_type": "code",
   "execution_count": 4,
   "id": "2e593fd5-367f-4b2b-8f88-b63858090acd",
   "metadata": {},
   "outputs": [],
   "source": [
    "token_pattern = re.compile(r\"(?u)\\b\\w\\w+\\b\")\n",
    "df[\"tokenised_text\"] = df.text.apply(lambda x: token_pattern.findall(x))"
   ]
  },
  {
   "cell_type": "markdown",
   "id": "f54c1c79-7c2e-46c0-8e0b-88a30da01aef",
   "metadata": {},
   "source": [
    "**Remove the neutral category** so that we are left with a more extreme examples in our dataset."
   ]
  },
  {
   "cell_type": "code",
   "execution_count": 5,
   "id": "f2632802-7f69-4b93-ab2f-d412eaaa7a36",
   "metadata": {},
   "outputs": [],
   "source": [
    "df = df[df['class'] != 'neutral']\n",
    "categories = list(set(df['class']))"
   ]
  },
  {
   "cell_type": "code",
   "execution_count": 6,
   "id": "448becfe-ea9c-475a-b61d-3e5c19b4c97b",
   "metadata": {},
   "outputs": [
    {
     "name": "stdout",
     "output_type": "stream",
     "text": [
      "873 entries in the dataset\n",
      "303 entries / 34.71% labelled as negative\n",
      "\n"
     ]
    }
   ],
   "source": [
    "n_negative = df[df['class']==\"negative\"].shape[0]\n",
    "prop_negative = df[df['class']==\"negative\"].shape[0]/df.shape[0]\n",
    "\n",
    "print(f\"{df.shape[0]} entries in the dataset\")\n",
    "print(\"{} entries / {:.2%} labelled as negative\\n\".format(n_negative, prop_negative)) "
   ]
  },
  {
   "cell_type": "markdown",
   "id": "e89c750f-eee1-40a9-b6af-812ee7a1411b",
   "metadata": {
    "tags": []
   },
   "source": [
    "#### What kind of text are we dealing with?"
   ]
  },
  {
   "cell_type": "markdown",
   "id": "4656f863-165f-4af2-8d23-bbcc47ff1ca5",
   "metadata": {},
   "source": [
    "The Financial PhraseBank was used by Maks and Vossen (2014) in their paper ***\"Good Debt or Bad Debt: Detecting Semantic Orientations in Economic Texts\"***. The authors scraped the LexisNexis database for news articles about companies on the OMX Helsinki database.\n",
    "\n",
    "Although very small, the dataset has since been widely used in the financial community to test and deploy domain specific language models."
   ]
  },
  {
   "cell_type": "code",
   "execution_count": 7,
   "id": "5fa191de-e03f-48f7-a236-dcbd19b8ed94",
   "metadata": {},
   "outputs": [
    {
     "name": "stdout",
     "output_type": "stream",
     "text": [
      "The longest positive sentence is: \n",
      "\n",
      " 831    MANAVIGATOR-September 7 , 2010-Kemira unveils Indian JV with IVRCL Finnish chemicals group Kemira ( HEL : KRA1V ) on Tuesday announced it has inked a deal to form a joint venture in India with local construction firm IVRCL Infrastructure and Projects Ltd ( BOM :530773 ) \n",
      "Name: text, dtype: object \n",
      "\n",
      "\n",
      "The longest negative sentence is: \n",
      "\n",
      " 2116    Finnish Exel Composites , a technology company that designs , manufactures , and markets composite profiles and tubes for various industrial applications , reports its net sales decreased by 0.6 % in the second quarter of 2010 to EUR 19.2 mn from EUR 19.3 mn in the corresponding period in 2009 \n",
      "Name: text, dtype: object \n",
      "\n",
      "\n"
     ]
    }
   ],
   "source": [
    "for cata in categories:\n",
    "    cata_df = df[df['class'] == cata]\n",
    "    cata_lens = cata_df['text'].str.len()\n",
    "    max_sentence = cata_df[cata_lens == cata_lens.max()]\n",
    "    with pd.option_context('display.max_colwidth', 500):\n",
    "        print(f'The longest {cata} sentence is: \\n\\n', max_sentence['text'], '\\n\\n')"
   ]
  },
  {
   "cell_type": "markdown",
   "id": "72a333bc-6838-4845-ab02-85018db8497a",
   "metadata": {},
   "source": [
    "#### Data split"
   ]
  },
  {
   "cell_type": "code",
   "execution_count": 8,
   "id": "ee3dd591-1144-4487-aa06-44255170abc0",
   "metadata": {},
   "outputs": [],
   "source": [
    "train_text, dev_text, test_text = dict(), dict(), dict()\n",
    "\n",
    "for c_i in categories:\n",
    "    train_text[c_i], devtest_text = train_test_split(df[df['class']==c_i].tokenised_text,\n",
    "                                                         train_size=0.7, random_state=123)\n",
    "    dev_text[c_i], test_text[c_i] = train_test_split(devtest_text,\n",
    "                                                         train_size=0.5, random_state=123)"
   ]
  },
  {
   "cell_type": "markdown",
   "id": "7a76f108-3939-4549-946b-d5bc2bc5ba9f",
   "metadata": {},
   "source": [
    "Create vocab dict and remove stopwords:"
   ]
  },
  {
   "cell_type": "code",
   "execution_count": 9,
   "id": "6d1ecb88-57f6-412d-9fe9-9308b163826c",
   "metadata": {},
   "outputs": [],
   "source": [
    "# Create vocab dict\n",
    "vocab = defaultdict(Counter)\n",
    "n_text = defaultdict(Counter)\n",
    "\n",
    "# Create vocabularies\n",
    "for c_i in categories:\n",
    "    for text in train_text[c_i]:\n",
    "        vocab[c_i].update(text)\n",
    "        n_text[c_i].update(set(text))\n",
    "\n",
    "# Remove stopwords\n",
    "stopwords = list()\n",
    "\n",
    "with open('./data/stopwords.txt', 'r') as fd:\n",
    "    reader = csv.reader(fd)\n",
    "    for row in fd:\n",
    "        stopwords.append(row.replace(\"\\n\",\"\"))\n",
    "        \n",
    "for c_i in categories:\n",
    "    for sw in stopwords:\n",
    "        del vocab[c_i][sw]"
   ]
  },
  {
   "cell_type": "markdown",
   "id": "25d11b66-cc21-4567-a8be-09730acb92b1",
   "metadata": {},
   "source": [
    "#### Inspection of the classes"
   ]
  },
  {
   "cell_type": "code",
   "execution_count": 10,
   "id": "9c6e436c-3452-44f7-be91-79bc1deb8eea",
   "metadata": {},
   "outputs": [
    {
     "name": "stdout",
     "output_type": "stream",
     "text": [
      "Most common words in POSITIVE class:\n"
     ]
    },
    {
     "data": {
      "text/plain": [
       "[('EUR', 237),\n",
       " ('mn', 157),\n",
       " ('profit', 114),\n",
       " ('year', 106),\n",
       " ('net', 103),\n",
       " ('period', 88),\n",
       " ('million', 82),\n",
       " ('sales', 80),\n",
       " ('Finnish', 75),\n",
       " ('mln', 71)]"
      ]
     },
     "metadata": {},
     "output_type": "display_data"
    },
    {
     "name": "stdout",
     "output_type": "stream",
     "text": [
      "\n",
      "Most common words in NEGATIVE class:\n"
     ]
    },
    {
     "data": {
      "text/plain": [
       "[('EUR', 174),\n",
       " ('mn', 125),\n",
       " ('profit', 83),\n",
       " ('year', 57),\n",
       " ('net', 52),\n",
       " ('quarter', 51),\n",
       " ('mln', 50),\n",
       " ('sales', 50),\n",
       " ('2008', 44),\n",
       " ('million', 43)]"
      ]
     },
     "metadata": {},
     "output_type": "display_data"
    },
    {
     "name": "stdout",
     "output_type": "stream",
     "text": [
      "\n"
     ]
    }
   ],
   "source": [
    "for c_i in categories:\n",
    "    print(f\"Most common words in {c_i.upper()} class:\")\n",
    "    display(vocab[c_i].most_common(10))\n",
    "    print()"
   ]
  },
  {
   "cell_type": "markdown",
   "id": "bb892344-e0b9-4e98-930a-f6e32dbdc065",
   "metadata": {},
   "source": [
    "#### Mututal information"
   ]
  },
  {
   "cell_type": "markdown",
   "id": "5a8a374c-4730-4ca6-9a5e-5ad9bb94132f",
   "metadata": {},
   "source": [
    "Mutual information can help us explain the differences between word distributions. Understanding the features that differentiate a certain category from another can prove very useful for interpretting differences between categories. "
   ]
  },
  {
   "cell_type": "code",
   "execution_count": 17,
   "id": "f4d80aac-6ce1-4b2f-b2da-374ea13876f7",
   "metadata": {},
   "outputs": [],
   "source": [
    "# Calculate the total number of articles in each class, which we will need to calculate mutual information\n",
    "n_total = dict()\n",
    "for c_i in categories:\n",
    "    n_total[c_i] = len(train_text[c_i])"
   ]
  },
  {
   "cell_type": "code",
   "execution_count": 23,
   "id": "00532125-9f5e-4d78-b818-ccec005d1622",
   "metadata": {},
   "outputs": [
    {
     "name": "stdout",
     "output_type": "stream",
     "text": [
      "25 overall most informative features:\n",
      "\n",
      " ['fell', 'increased', 'half', '2008', 'nine', 'due', 'EUR', '17', '2007', 'mn', 'quarter', 'eur', 'profit', 'Helsinki', 'first', 'trade', 'prices', 'electronics', '2010', 'excluding', 'items', 'reports', 'negative', 'third', 'order']\n"
     ]
    }
   ],
   "source": [
    "mi_list = sorted([(mutual_information(w, n_text, n_total), w) for w in set(vocab['negative']).union(set(vocab['positive']))], reverse=True)\n",
    "\n",
    "print('25 overall most informative features:\\n\\n', [w for mi, w in mi_list][:25])"
   ]
  },
  {
   "cell_type": "markdown",
   "id": "0879d0bc",
   "metadata": {},
   "source": [
    "## 3. Traditional sentiment analysis"
   ]
  },
  {
   "cell_type": "markdown",
   "id": "81d35271",
   "metadata": {},
   "source": [
    "### Loughran & McDonald classifier"
   ]
  },
  {
   "cell_type": "markdown",
   "id": "5446979d-60e4-4d7a-9597-d608a36170a0",
   "metadata": {},
   "source": [
    "Loughran & McDonald released their master dictionary in 2011 in conjunction with their paper “When is a Liability not a Liability? Textual Analysis, Dictionaries, and 10-Ks\". The dictionary lists a number of words and includes negative, positive, uncertainty, litigious, strong modal, weak modal, and constraining tags. \n",
    "\n",
    "There are several shortcomings to this simplistic approach:\n",
    "\n",
    "- **Some words don't appear in the dictionary (fall, rise, etc.)**\n",
    "- **Some words are negative/positive given the context they are written (profit, expenditure, etc.)**\n",
    "- **Simple counts of words don't necessarily infer the overall sentiment**\n",
    "    - *Hatred for football has always confused me; there are so many haters who attack the sport, but I have always loved it.* - 3 negative words and 1 positive word.\n",
    "\n",
    "\n",
    "We have taken the words that have a negative and positive tag for our classifier:"
   ]
  },
  {
   "cell_type": "code",
   "execution_count": 24,
   "id": "608eae79",
   "metadata": {},
   "outputs": [
    {
     "name": "stdout",
     "output_type": "stream",
     "text": [
      "Some examples of negative words:  ['abandon', 'abandoned', 'abandoning', 'abandonment', 'abandonments']\n",
      "Some examples of positive words:  ['able', 'abundance', 'abundant', 'acclaimed', 'accomplish']\n"
     ]
    }
   ],
   "source": [
    "lmdict = np.load('data/LoughranMcDonald_dict.npy', allow_pickle='TRUE').item()\n",
    "print('Some examples of negative words: ', lmdict['Negative'][:5])\n",
    "print('Some examples of positive words: ', lmdict['Positive'][:5])"
   ]
  },
  {
   "cell_type": "code",
   "execution_count": 25,
   "id": "441f95e2-be4a-4263-96da-9dc07d68a45f",
   "metadata": {},
   "outputs": [
    {
     "data": {
      "text/plain": [
       "['able', 'abundance', 'abundant', 'acclaimed', 'accomplish']"
      ]
     },
     "execution_count": 25,
     "metadata": {},
     "output_type": "execute_result"
    }
   ],
   "source": [
    "lmdict['Positive'][:5]"
   ]
  },
  {
   "cell_type": "markdown",
   "id": "00495202-583a-4b11-8ede-7cfb61fd41db",
   "metadata": {},
   "source": [
    "Check to see if a word appears in the dictionary:"
   ]
  },
  {
   "cell_type": "code",
   "execution_count": 26,
   "id": "004cd19d-8fbe-4e5c-9538-2cfc0017d73c",
   "metadata": {},
   "outputs": [
    {
     "name": "stdout",
     "output_type": "stream",
     "text": [
      "No, fall is not in the Loughran & McDonald dictionary\n"
     ]
    }
   ],
   "source": [
    "word = 'fall'\n",
    "\n",
    "if word in lmdict['Negative']:\n",
    "    print(f'Yes, {word} is a Negative word in the Loughran & McDonald dictionary')\n",
    "elif word in lmdict['Positive']:\n",
    "    print(f'Yes, {word} is Positive word in the Loughran & McDonald dictionary')\n",
    "else:\n",
    "    print(f'No, {word} is not in the Loughran & McDonald dictionary')"
   ]
  },
  {
   "cell_type": "markdown",
   "id": "e42f1465",
   "metadata": {},
   "source": [
    "Negation is another challenge that emerges using this approach. A techy fix is to check if the word is preceeded by a negating word in our list:"
   ]
  },
  {
   "cell_type": "code",
   "execution_count": 27,
   "id": "48d384c5",
   "metadata": {},
   "outputs": [],
   "source": [
    "negate = [\"aint\", \"arent\", \"cannot\", \"cant\", \"couldnt\", \"darent\", \"didnt\", \"doesnt\", \"ain't\", \"aren't\", \"can't\",\n",
    "          \"couldn't\", \"daren't\", \"didn't\", \"doesn't\", \"dont\", \"hadnt\", \"hasnt\", \"havent\", \"isnt\", \"mightnt\", \"mustnt\",\n",
    "          \"neither\", \"don't\", \"hadn't\", \"hasn't\", \"haven't\", \"isn't\", \"mightn't\", \"mustn't\", \"neednt\", \"needn't\",\n",
    "          \"never\", \"none\", \"nope\", \"nor\", \"not\", \"nothing\", \"nowhere\", \"oughtnt\", \"shant\", \"shouldnt\", \"wasnt\",\n",
    "          \"werent\", \"oughtn't\", \"shan't\", \"shouldn't\", \"wasn't\", \"weren't\", \"without\", \"wont\", \"wouldnt\", \"won't\",\n",
    "          \"wouldn't\", \"rarely\", \"seldom\", \"despite\", \"no\", \"nobody\"]"
   ]
  },
  {
   "cell_type": "code",
   "execution_count": 28,
   "id": "1a0377ff",
   "metadata": {
    "tags": []
   },
   "outputs": [],
   "source": [
    "def negated(word):\n",
    "    \"\"\"\n",
    "    Determine if preceding word is a negation word\n",
    "    \"\"\"\n",
    "    if word.lower() in negate:\n",
    "        return True\n",
    "    else:\n",
    "        return False"
   ]
  },
  {
   "cell_type": "markdown",
   "id": "afcd91aa",
   "metadata": {},
   "source": [
    "This function counts the number of negative and positive words in a document and performs a negation check to switch the polarity of words that are preceeded by a word in the *negate* list."
   ]
  },
  {
   "cell_type": "code",
   "execution_count": 29,
   "id": "5ec407be",
   "metadata": {
    "tags": []
   },
   "outputs": [
    {
     "name": "stdout",
     "output_type": "stream",
     "text": [
      "The results with negation check:\n",
      "\n",
      "The # of positive words: 0\n",
      "The # of negative words: 6\n",
      "The list of found positive words: []\n",
      "The list of found negative words: ['worst', 'worse', 'recession', 'fears', 'recessions', 'decline']\n",
      "The overall classification is: negative\n"
     ]
    }
   ],
   "source": [
    "def tone_count_with_negation_check(dict, article):\n",
    "    \"\"\"\n",
    "    Count positive and negative words with negation check. Account for simple negation only for positive words.\n",
    "    Simple negation is taken to be observations of one of negate words occurring within three words\n",
    "    preceding a positive words.\n",
    "    \"\"\"\n",
    "    pos_count = 0\n",
    "    neg_count = 0\n",
    " \n",
    "    pos_words = []\n",
    "    neg_words = []\n",
    " \n",
    "    input_words = re.findall(r'\\b([a-zA-Z]+n\\'t|[a-zA-Z]+\\'s|[a-zA-Z]+)\\b', article.lower())\n",
    " \n",
    "    word_count = len(input_words)\n",
    " \n",
    "    for i in range(0, word_count):\n",
    "        if input_words[i] in dict['Negative']:\n",
    "            neg_count += 1\n",
    "            neg_words.append(input_words[i])\n",
    "        if input_words[i] in dict['Positive']:\n",
    "            if i >= 3:\n",
    "                if negated(input_words[i - 1]) or negated(input_words[i - 2]) or negated(input_words[i - 3]):\n",
    "                    neg_count += 1\n",
    "                    neg_words.append(input_words[i] + ' (with negation)')\n",
    "                else:\n",
    "                    pos_count += 1\n",
    "                    pos_words.append(input_words[i])\n",
    "            elif i == 2:\n",
    "                if negated(input_words[i - 1]) or negated(input_words[i - 2]):\n",
    "                    neg_count += 1\n",
    "                    neg_words.append(input_words[i] + ' (with negation)')\n",
    "                else:\n",
    "                    pos_count += 1\n",
    "                    pos_words.append(input_words[i])\n",
    "            elif i == 1:\n",
    "                if negated(input_words[i - 1]):\n",
    "                    neg_count += 1\n",
    "                    neg_words.append(input_words[i] + ' (with negation)')\n",
    "                else:\n",
    "                    pos_count += 1\n",
    "                    pos_words.append(input_words[i])\n",
    "            elif i == 0:\n",
    "                pos_count += 1\n",
    "                pos_words.append(input_words[i])\n",
    "                \n",
    "    sentiment_score = len(pos_words) - len(neg_words)\n",
    "    \n",
    "    if sentiment_score < 0:\n",
    "        classification = 'negative'\n",
    "    elif sentiment_score > 0:\n",
    "        classification = 'positive'\n",
    "    else:\n",
    "        classification = 'neutral'\n",
    " \n",
    "    results = [word_count, pos_count, neg_count, pos_words, neg_words, classification]\n",
    " \n",
    "    return results\n",
    " \n",
    "    \n",
    "# A sample output\n",
    "article = '''The stock market has had its worst start to a year in recent history and things could get \n",
    "             worse as recession fears loom. Since World War II there have been 13 recessions—defined as \n",
    "             two consecutive quarters of GDP decline–and there have been 3 in the 21st century (2001, 2008 and 2020), \n",
    "             according to the National Bureau of Economic Research. Some experts say another one could be on the way.'''\n",
    " \n",
    "sent_results = tone_count_with_negation_check(lmdict, article)\n",
    "\n",
    "print('The results with negation check:', end='\\n\\n')\n",
    "print('The # of positive words:', sent_results[1])\n",
    "print('The # of negative words:', sent_results[2])\n",
    "print('The list of found positive words:', sent_results[3])\n",
    "print('The list of found negative words:', sent_results[4])\n",
    "print('The overall classification is:', sent_results[5])"
   ]
  },
  {
   "cell_type": "markdown",
   "id": "80dee1da-6f30-491a-b31a-eb0e877862f7",
   "metadata": {},
   "source": [
    "Sometimes this technique can be successful, but there are many examples where it falls short. For example, when we use a clearly negative text that doesn't contain any words in the lexicon."
   ]
  },
  {
   "cell_type": "code",
   "execution_count": 30,
   "id": "8d2cdaf7-6459-4ad0-92a9-00f377034870",
   "metadata": {},
   "outputs": [
    {
     "name": "stdout",
     "output_type": "stream",
     "text": [
      "The results with negation check:\n",
      "\n",
      "The # of positive words: 0\n",
      "The # of negative words: 0\n",
      "The list of found positive words: []\n",
      "The list of found negative words: []\n",
      "The overall classification is: neutral\n"
     ]
    }
   ],
   "source": [
    "article = '''Pharmaceuticals group Orion Corp reported a fall in its third-quarter earnings that \n",
    "             were hit by larger expenditures on R&D and marketing'''\n",
    " \n",
    "sent_results = tone_count_with_negation_check(lmdict, article)\n",
    "\n",
    "print('The results with negation check:', end='\\n\\n')\n",
    "print('The # of positive words:', sent_results[1])\n",
    "print('The # of negative words:', sent_results[2])\n",
    "print('The list of found positive words:', sent_results[3])\n",
    "print('The list of found negative words:', sent_results[4])\n",
    "print('The overall classification is:', sent_results[5])"
   ]
  },
  {
   "cell_type": "markdown",
   "id": "1627da33-0944-4089-88aa-c499aecb0b7f",
   "metadata": {},
   "source": [
    "#### Performance on the Financial PhraseBank dataset"
   ]
  },
  {
   "cell_type": "code",
   "execution_count": 31,
   "id": "15ff9a6c-393a-4d33-961f-8fcfeb9eaa49",
   "metadata": {
    "tags": []
   },
   "outputs": [],
   "source": [
    "labels = list(df['class'])\n",
    "predictions= list()\n",
    "\n",
    "for phrase, c_i in zip(df['text'], df['class']):\n",
    "    sent_results = tone_count_with_negation_check(lmdict, phrase)\n",
    "    classification = sent_results[5]\n",
    "    predictions.append(classification)"
   ]
  },
  {
   "cell_type": "code",
   "execution_count": 32,
   "id": "711dba89-2fea-4410-82ed-93db1b99740d",
   "metadata": {},
   "outputs": [
    {
     "name": "stdout",
     "output_type": "stream",
     "text": [
      "We passed 873 examples through the LM classifier \n",
      "\n",
      "There were 573 NEUTRAL predictions\n",
      "There were 101 POSITIVE predictions\n",
      "There were 199 NEGATIVE predictions\n"
     ]
    }
   ],
   "source": [
    "neutral_count = predictions.count('neutral')\n",
    "positive_count = predictions.count('positive')\n",
    "negative_count = predictions.count('negative')\n",
    "\n",
    "print(f'We passed {len(predictions)} examples through the LM classifier \\n')\n",
    "print(f'There were {neutral_count} NEUTRAL predictions')\n",
    "print(f'There were {positive_count} POSITIVE predictions')\n",
    "print(f'There were {negative_count} NEGATIVE predictions')"
   ]
  },
  {
   "cell_type": "code",
   "execution_count": 33,
   "id": "ecba44f5-cbe7-4ab8-b473-609628f1f885",
   "metadata": {},
   "outputs": [
    {
     "name": "stdout",
     "output_type": "stream",
     "text": [
      "              precision    recall  f1-score   support\n",
      "\n",
      "    negative      0.613     0.403     0.486       303\n",
      "     neutral      0.000     0.000     0.000         0\n",
      "    positive      0.921     0.163     0.277       570\n",
      "\n",
      "    accuracy                          0.246       873\n",
      "   macro avg      0.511     0.189     0.254       873\n",
      "weighted avg      0.814     0.246     0.350       873\n",
      "\n"
     ]
    },
    {
     "name": "stderr",
     "output_type": "stream",
     "text": [
      "C:\\Users\\felix\\anaconda3\\envs\\OMI_NLP_workshop\\lib\\site-packages\\sklearn\\metrics\\_classification.py:1327: UndefinedMetricWarning: Recall and F-score are ill-defined and being set to 0.0 in labels with no true samples. Use `zero_division` parameter to control this behavior.\n",
      "  _warn_prf(average, modifier, msg_start, len(result))\n",
      "C:\\Users\\felix\\anaconda3\\envs\\OMI_NLP_workshop\\lib\\site-packages\\sklearn\\metrics\\_classification.py:1327: UndefinedMetricWarning: Recall and F-score are ill-defined and being set to 0.0 in labels with no true samples. Use `zero_division` parameter to control this behavior.\n",
      "  _warn_prf(average, modifier, msg_start, len(result))\n",
      "C:\\Users\\felix\\anaconda3\\envs\\OMI_NLP_workshop\\lib\\site-packages\\sklearn\\metrics\\_classification.py:1327: UndefinedMetricWarning: Recall and F-score are ill-defined and being set to 0.0 in labels with no true samples. Use `zero_division` parameter to control this behavior.\n",
      "  _warn_prf(average, modifier, msg_start, len(result))\n"
     ]
    }
   ],
   "source": [
    "print(classification_report(labels, predictions, digits=3))"
   ]
  },
  {
   "cell_type": "markdown",
   "id": "f3033173-1b0d-42b9-9a94-5e46ded9b4ef",
   "metadata": {},
   "source": [
    "### Naive Bayes classifier"
   ]
  },
  {
   "cell_type": "markdown",
   "id": "9589ae9f-842e-4b6e-89b7-2bd147d759f0",
   "metadata": {},
   "source": [
    "A NB classifier improves upon the lexicon technique explored above as it utilises the individual contribution of each word in the text. The fundamental training goal of a NB classifier is to calculate the individual probability of a word appearing in a particular class, $P(w|c_i)$, and summing the log probability of each word to discern $P(d|c_i)$. \n",
    "\n",
    "There are some assumptions and training details in our model:\n",
    "- Add-one smoothing - assume that all words appear once in each class so that one can calculate the probability for a word appearing.\n",
    "    - Large oversimplification but it is necessary for both classes to have the same support.\n",
    "- Remove all stop words - probability distribution of stop words doesn't neccessarily discern sentiment classification.\n",
    "    - she, he, it, so, I, etc. \n",
    "    \n",
    "##### Advantages and disadvatanges:\n",
    "    \n",
    "<font color='green'>$\\checkmark$</font>   Granular feature set \\\n",
    "<font color='green'>$\\checkmark$</font>   Can also include bigrams, trigrams, emojis etc. for improved performance "
   ]
  },
  {
   "cell_type": "markdown",
   "id": "77298ce7-dc82-42a1-9103-240a38a4e9cb",
   "metadata": {},
   "source": [
    "#### Training the classifier"
   ]
  },
  {
   "cell_type": "code",
   "execution_count": 34,
   "id": "f1a95616-a1c6-407b-85c2-c82cec38e9cb",
   "metadata": {},
   "outputs": [],
   "source": [
    "# Naive Bayes with additive smoothing\n",
    "# Define function to get P(w|c_i), class-conditional propbabilities for w\n",
    "\n",
    "def naive_bayes_additive_smoothing(vocab, categories, smoothing_alpha):\n",
    "    \n",
    "    # Calculate unsmoothed probabilities\n",
    "    probabilities = dict()\n",
    "    \n",
    "    for c_i in categories:\n",
    "        \n",
    "        probabilities[c_i] = dict()\n",
    "        \n",
    "        # First, consider all words that are in the vocab for either class\n",
    "        for word in set(vocab[\"hateful\"]).union(set(vocab[\"non-hateful\"])):\n",
    "            # If they do exist in the current class c_i, store their count --> 1st order model\n",
    "            if vocab[c_i][word]>0:\n",
    "                probabilities[c_i][word] = vocab[c_i][word]\n",
    "            # If not, set their count to be the smoothing parameter (rather than excluding them, as we did for no smoothing) --> backoff to 0th order model\n",
    "            else:\n",
    "                probabilities[c_i][word] = smoothing_alpha\n",
    "        \n",
    "        # Second, we take the sum of counts of words in this new dict\n",
    "        total = sum(probabilities[c_i].values())\n",
    "        \n",
    "        # Last, we turn the counts for each word into probabilities by dividing them by that sum\n",
    "        probabilities[c_i] = {word: probabilities[c_i][word] / total for word in probabilities[c_i]}\n",
    "    \n",
    "    return probabilities\n",
    "        "
   ]
  },
  {
   "cell_type": "markdown",
   "id": "a84ef887-ee24-4a55-b2c2-379affc1f327",
   "metadata": {},
   "source": [
    "Estimate the probability of the class:"
   ]
  },
  {
   "cell_type": "code",
   "execution_count": 35,
   "id": "f9d0695f-2de6-465a-8bf6-ca7e95ce8dd7",
   "metadata": {},
   "outputs": [],
   "source": [
    "# Estimate P(c_i), the probability of class c_i, based on the class distribution in the test set\n",
    "prob_class = dict()\n",
    "for c_i in categories:\n",
    "    prob_class[c_i] = train_text[c_i].shape[0]/(train_text[\"negative\"].shape[0]+train_text[\"positive\"].shape[0])"
   ]
  },
  {
   "cell_type": "markdown",
   "id": "c4848084-5a79-4d05-afff-827da94b4f18",
   "metadata": {},
   "source": [
    "Retrieve the predictions:"
   ]
  },
  {
   "cell_type": "code",
   "execution_count": 36,
   "id": "993c87f6-c92a-43b2-9b4d-ecd94c775cdf",
   "metadata": {},
   "outputs": [],
   "source": [
    "def get_nb_predictions(categories, test_tweets, probabilities, prob_class):\n",
    "\n",
    "    # Initialize lists for storing ground truth labels and predictions\n",
    "    labels = list()\n",
    "    predictions = list()\n",
    "\n",
    "    # Loop over categories\n",
    "    for c_i in categories:\n",
    "\n",
    "        # Loop over test tweets\n",
    "        for tweet in test_tweets[c_i]:\n",
    "\n",
    "            # Store ground truth\n",
    "            labels.append(c_i)\n",
    "\n",
    "            # For each post, calculate scores for each of the two categories\n",
    "            scores = {'negative': 0, 'positive': 0}\n",
    "            for word in tweet:\n",
    "                if word in probabilities[c_i]:\n",
    "                    scores[\"negative\"] += np.log(probabilities[\"negative\"][word])\n",
    "                    scores[\"positive\"] += np.log(probabilities[\"positive\"][word])\n",
    "\n",
    "            # Class imbalance\n",
    "            scores[\"negative\"] = scores[\"negative\"]+np.log(prob_class[\"negative\"])\n",
    "            scores[\"positive\"] = scores[\"positive\"]+np.log(prob_class[\"positive\"])\n",
    "\n",
    "            # Use higher score for prediction\n",
    "            predictions.append(max(scores.items(), key=operator.itemgetter(1))[0])\n",
    "\n",
    "    return labels, predictions"
   ]
  },
  {
   "cell_type": "code",
   "execution_count": 37,
   "id": "65c59178-f511-4404-9c29-1e9e1dbda016",
   "metadata": {},
   "outputs": [
    {
     "name": "stdout",
     "output_type": "stream",
     "text": [
      "              precision    recall  f1-score   support\n",
      "\n",
      "    negative      0.000     0.000     0.000        45\n",
      "    positive      0.654     1.000     0.791        85\n",
      "\n",
      "    accuracy                          0.654       130\n",
      "   macro avg      0.327     0.500     0.395       130\n",
      "weighted avg      0.428     0.654     0.517       130\n",
      "\n",
      "0.39534883720930236\n"
     ]
    },
    {
     "name": "stderr",
     "output_type": "stream",
     "text": [
      "C:\\Users\\felix\\anaconda3\\envs\\OMI_NLP_workshop\\lib\\site-packages\\sklearn\\metrics\\_classification.py:1327: UndefinedMetricWarning: Precision and F-score are ill-defined and being set to 0.0 in labels with no predicted samples. Use `zero_division` parameter to control this behavior.\n",
      "  _warn_prf(average, modifier, msg_start, len(result))\n",
      "C:\\Users\\felix\\anaconda3\\envs\\OMI_NLP_workshop\\lib\\site-packages\\sklearn\\metrics\\_classification.py:1327: UndefinedMetricWarning: Precision and F-score are ill-defined and being set to 0.0 in labels with no predicted samples. Use `zero_division` parameter to control this behavior.\n",
      "  _warn_prf(average, modifier, msg_start, len(result))\n",
      "C:\\Users\\felix\\anaconda3\\envs\\OMI_NLP_workshop\\lib\\site-packages\\sklearn\\metrics\\_classification.py:1327: UndefinedMetricWarning: Precision and F-score are ill-defined and being set to 0.0 in labels with no predicted samples. Use `zero_division` parameter to control this behavior.\n",
      "  _warn_prf(average, modifier, msg_start, len(result))\n"
     ]
    }
   ],
   "source": [
    "# Train\n",
    "probs = naive_bayes_additive_smoothing(vocab, categories, smoothing_alpha=0.1)\n",
    "\n",
    "# Get predictions on dev set\n",
    "labels, predictions = get_nb_predictions(categories, dev_text, probs, prob_class)\n",
    "\n",
    "# Calculate and store macro F1 on test set\n",
    "print(classification_report(labels, predictions, digits=3))\n",
    "print(f1_score(labels, predictions, average='macro'))"
   ]
  },
  {
   "cell_type": "code",
   "execution_count": null,
   "id": "a12738db-5639-45d5-b6b7-124c6b7a1553",
   "metadata": {},
   "outputs": [],
   "source": []
  },
  {
   "cell_type": "markdown",
   "id": "9f930574",
   "metadata": {},
   "source": [
    "## 3. BERT classification"
   ]
  },
  {
   "cell_type": "code",
   "execution_count": 8,
   "id": "03516dc1-abee-498f-a856-804b47983c23",
   "metadata": {
    "tags": []
   },
   "outputs": [],
   "source": [
    "# Import all dependencies \n",
    "from datasets import load_dataset\n",
    "from transformers import AutoTokenizer\n",
    "from transformers import AutoModelForSequenceClassification, AutoTokenizer\n",
    "import torch\n",
    "from sklearn.model_selection import train_test_split\n",
    "from torch.utils.data import Dataset, DataLoader\n",
    "from transformers import  TrainingArguments, Trainer, EarlyStoppingCallback\n",
    "from transformers import AutoConfig\n",
    "import warnings\n",
    "warnings.filterwarnings(\"ignore\")"
   ]
  },
  {
   "cell_type": "code",
   "execution_count": 9,
   "id": "91227355-8b5c-4bb6-bcc8-2485bdb4949c",
   "metadata": {
    "tags": []
   },
   "outputs": [],
   "source": [
    "# Import the dataset from huggingfaces' dataset repository\n",
    "#fin_dataset = load_dataset('financial_phrasebank', 'sentences_allagree')\n",
    "#df = pd.DataFrame(fin_dataset['train']) # send  it to a pandas dataframe\n",
    "\n",
    "# HUGE INSTALL PROBLEM ON WINDOWS NEED TO FIX - RUNS FINE ON MAC - \n",
    "\n",
    "# MEANTIME INSTALL FROM data/FinancialPhraseBanl-v1.0\n",
    "\n",
    "df = pd.read_csv('data\\\\FinancialPhraseBank-v1.0\\\\Sentences_50Agree.txt',\n",
    "            encoding = 'ISO-8859-1',on_bad_lines='skip',sep = '.@')\n",
    "df.columns = ['sentence','label']"
   ]
  },
  {
   "cell_type": "code",
   "execution_count": 10,
   "id": "c9054771-2667-4ab2-9d5f-162dee478a50",
   "metadata": {},
   "outputs": [],
   "source": [
    "df['label'] = df['label'].replace(to_replace=({'neutral':0,'positive':1,'negative':2}))\n",
    "df['label']= df['label'].astype(int)"
   ]
  },
  {
   "cell_type": "code",
   "execution_count": 11,
   "id": "228a2858",
   "metadata": {},
   "outputs": [],
   "source": [
    "### Tokenizer "
   ]
  },
  {
   "cell_type": "code",
   "execution_count": 12,
   "id": "22345d7a",
   "metadata": {},
   "outputs": [],
   "source": [
    "tokenizer = AutoTokenizer.from_pretrained(\"bert-base-cased\")"
   ]
  },
  {
   "cell_type": "code",
   "execution_count": 13,
   "id": "675e1335",
   "metadata": {},
   "outputs": [
    {
     "name": "stdout",
     "output_type": "stream",
     "text": [
      "\n",
      "This is our input sentence : \n",
      " Hi my name is BERT and I am overjoyed  to meet you ! \n",
      "\n",
      "These are the outputs of the tokenizer:\n",
      "\n",
      "{'input_ids': tensor([[  101,  8790,  1139,  1271,  1110,   139,  9637,  1942,  1105,   146,\n",
      "          1821,  1166, 18734,  1174,  1106,  2283,  1128,   106,   102,     0,\n",
      "             0,     0,     0,     0,     0,     0,     0,     0,     0,     0,\n",
      "             0,     0,     0,     0,     0,     0,     0,     0,     0,     0,\n",
      "             0,     0,     0,     0,     0,     0,     0,     0,     0,     0,\n",
      "             0,     0,     0,     0,     0,     0,     0,     0,     0,     0,\n",
      "             0,     0,     0,     0]]), 'token_type_ids': tensor([[0, 0, 0, 0, 0, 0, 0, 0, 0, 0, 0, 0, 0, 0, 0, 0, 0, 0, 0, 0, 0, 0, 0, 0,\n",
      "         0, 0, 0, 0, 0, 0, 0, 0, 0, 0, 0, 0, 0, 0, 0, 0, 0, 0, 0, 0, 0, 0, 0, 0,\n",
      "         0, 0, 0, 0, 0, 0, 0, 0, 0, 0, 0, 0, 0, 0, 0, 0]]), 'attention_mask': tensor([[1, 1, 1, 1, 1, 1, 1, 1, 1, 1, 1, 1, 1, 1, 1, 1, 1, 1, 1, 0, 0, 0, 0, 0,\n",
      "         0, 0, 0, 0, 0, 0, 0, 0, 0, 0, 0, 0, 0, 0, 0, 0, 0, 0, 0, 0, 0, 0, 0, 0,\n",
      "         0, 0, 0, 0, 0, 0, 0, 0, 0, 0, 0, 0, 0, 0, 0, 0]])}\n",
      "\n",
      "These inputs correspond to the original sentence with separation and padding thrown in :\n",
      "\n",
      "['[CLS] Hi my name is BERT and I am overjoyed to meet you! [SEP] [PAD] [PAD] [PAD] [PAD] [PAD] [PAD] [PAD] [PAD] [PAD] [PAD] [PAD] [PAD] [PAD] [PAD] [PAD] [PAD] [PAD] [PAD] [PAD] [PAD] [PAD] [PAD] [PAD] [PAD] [PAD] [PAD] [PAD] [PAD] [PAD] [PAD] [PAD] [PAD] [PAD] [PAD] [PAD] [PAD] [PAD] [PAD] [PAD] [PAD] [PAD] [PAD] [PAD] [PAD] [PAD]']\n"
     ]
    }
   ],
   "source": [
    "#how does the tokenizer work ? \n",
    "print('\\nThis is our input sentence : \\n Hi my name is BERT and I am overjoyed  to meet you ! \\n')\n",
    "\n",
    "out = tokenizer(['Hi my name is BERT and I am overjoyed  to meet you ! '],\n",
    "          max_length=64,padding=\"max_length\", truncation=True,return_tensors='pt')\n",
    "print('These are the outputs of the tokenizer:\\n')\n",
    "print(out)\n",
    "\n",
    "print('\\nThese inputs correspond to the original sentence with separation and padding thrown in :\\n')\n",
    "print([tokenizer.decode(i) for i in out['input_ids']])"
   ]
  },
  {
   "cell_type": "code",
   "execution_count": 14,
   "id": "0ed749a0",
   "metadata": {},
   "outputs": [
    {
     "name": "stdout",
     "output_type": "stream",
     "text": [
      "this is our model : \n",
      "\n"
     ]
    },
    {
     "name": "stderr",
     "output_type": "stream",
     "text": [
      "Some weights of the model checkpoint at bert-base-cased were not used when initializing BertForSequenceClassification: ['cls.predictions.decoder.weight', 'cls.predictions.transform.dense.weight', 'cls.predictions.bias', 'cls.predictions.transform.LayerNorm.weight', 'cls.predictions.transform.LayerNorm.bias', 'cls.seq_relationship.weight', 'cls.predictions.transform.dense.bias', 'cls.seq_relationship.bias']\n",
      "- This IS expected if you are initializing BertForSequenceClassification from the checkpoint of a model trained on another task or with another architecture (e.g. initializing a BertForSequenceClassification model from a BertForPreTraining model).\n",
      "- This IS NOT expected if you are initializing BertForSequenceClassification from the checkpoint of a model that you expect to be exactly identical (initializing a BertForSequenceClassification model from a BertForSequenceClassification model).\n",
      "Some weights of BertForSequenceClassification were not initialized from the model checkpoint at bert-base-cased and are newly initialized: ['classifier.bias', 'classifier.weight']\n",
      "You should probably TRAIN this model on a down-stream task to be able to use it for predictions and inference.\n"
     ]
    },
    {
     "name": "stdout",
     "output_type": "stream",
     "text": [
      "\n",
      " First layer shape (vocabulary size) : \n",
      "  torch.Size([28996, 768]) \n",
      " Last layer shape (prediction task output shape) : \n",
      "  torch.Size([2])\n"
     ]
    }
   ],
   "source": [
    "# Now that we covered  the tokenizer lets introduce the other building block : the model \n",
    "\n",
    "print('this is our model : \\n')\n",
    "model = AutoModelForSequenceClassification.from_pretrained('bert-base-cased')\n",
    "layers = [i for i in model.parameters()]\n",
    "print('\\n First layer shape (vocabulary size) : \\n ',layers[0].shape,\n",
    "'\\n Last layer shape (prediction task output shape) : \\n ',layers[-1].shape)"
   ]
  },
  {
   "cell_type": "code",
   "execution_count": 15,
   "id": "e9c745e8",
   "metadata": {},
   "outputs": [
    {
     "name": "stdout",
     "output_type": "stream",
     "text": [
      "This is our forward propagation syntax. \n",
      " We feed in a tokenized text and receive the \n",
      " predicted  logits over the 2 classes : \n",
      "\n"
     ]
    },
    {
     "data": {
      "text/plain": [
       "SequenceClassifierOutput(loss=None, logits=tensor([[0.5558, 0.0876]], grad_fn=<AddmmBackward0>), hidden_states=None, attentions=None)"
      ]
     },
     "execution_count": 15,
     "metadata": {},
     "output_type": "execute_result"
    }
   ],
   "source": [
    "# basic forward propagation of our BERT model \n",
    "print('This is our forward propagation syntax. \\n We feed in a tokenized text and receive the \\n predicted  logits over the 2 classes : \\n')\n",
    "model.forward(**out)"
   ]
  },
  {
   "cell_type": "code",
   "execution_count": 16,
   "id": "ebec1e77",
   "metadata": {},
   "outputs": [],
   "source": [
    "# Working with BERT hands-on "
   ]
  },
  {
   "cell_type": "code",
   "execution_count": 17,
   "id": "baf53dd2",
   "metadata": {},
   "outputs": [],
   "source": [
    "#  define tokenizer & model \n",
    "tokenizer = AutoTokenizer.from_pretrained(\"bert-base-cased\")\n",
    "\n",
    "# turn the configuration for a 3 sentiment classification task\n",
    "config = AutoConfig.from_pretrained('bert-base-cased')\n",
    "config.num_labels = 3\n",
    "\n",
    "model = AutoModelForSequenceClassification.from_config(config)\n"
   ]
  },
  {
   "cell_type": "code",
   "execution_count": 18,
   "id": "966ed0d0",
   "metadata": {},
   "outputs": [],
   "source": [
    "train, test = train_test_split(df, test_size=0.25, random_state=96)\n",
    "test, val = train_test_split(test, test_size=0.4, random_state=96)"
   ]
  },
  {
   "cell_type": "code",
   "execution_count": 19,
   "id": "9b38988d-5ed7-4eaa-9c28-6c6ddef1ba4d",
   "metadata": {},
   "outputs": [
    {
     "name": "stdout",
     "output_type": "stream",
     "text": [
      "0    0.593174\n",
      "1    0.282136\n",
      "2    0.124690\n",
      "Name: label, dtype: float64 \n",
      " 0    0.583219\n",
      "1    0.294360\n",
      "2    0.122421\n",
      "Name: label, dtype: float64 \n",
      " 0    0.616495\n",
      "1    0.255670\n",
      "2    0.127835\n",
      "Name: label, dtype: float64\n"
     ]
    }
   ],
   "source": [
    "print(train.label.value_counts(normalize=True),'\\n',\n",
    "test.label.value_counts(normalize=True),'\\n',\n",
    "val.label.value_counts(normalize=True))"
   ]
  },
  {
   "cell_type": "code",
   "execution_count": 20,
   "id": "423f2be3",
   "metadata": {},
   "outputs": [],
   "source": [
    "# Defining a Dataset object to put our data in\n",
    "\n",
    "\n",
    "class BERTTutorialDataset(Dataset):\n",
    "    \"\"\"\n",
    "    Special dataset class built on top of the torch Dataset class\n",
    "    useful to have memory efficient dataloading tokenization batching and trainning.\n",
    "    \n",
    "    Huggingface can use these types of dataset as inputs and run all trainning/prediction on them. \n",
    "    \"\"\"\n",
    "    def __init__(self, input_data, sentiment_targets, tokenizer, max_len):\n",
    "        \"\"\"\n",
    "        Basic generator function for the class.\n",
    "        -----------------\n",
    "        input_data : array\n",
    "            Numpy array of string  input text to use for downstream task \n",
    "        sentiment_targets : \n",
    "            Numpy array of integers indexed in  the pytorch style of [0,C-1] with C being the total number of classes\n",
    "            In our example this means the target sentiments should range from 0 to 2. \n",
    "        tokenizer  : Huggingface tokenizer \n",
    "            The huggingface tokenizer to use\n",
    "        max_len : \n",
    "            The truncation length of the tokenizer \n",
    "        -------------------\n",
    "        \n",
    "        Returns : \n",
    "        \n",
    "            Tokenized text with inputs, attentions and labels, ready for the Training script. \n",
    "        \"\"\"\n",
    "        self.input_data = input_data\n",
    "        self.sentiment_targets = sentiment_targets\n",
    "        self.tokenizer = tokenizer\n",
    "        self.max_len = max_len\n",
    "        \n",
    "    def __len__(self):\n",
    "        \"\"\"\n",
    "        Function required by torch huggingface to batch efficiently\n",
    "        \"\"\"\n",
    "        return len(self.input_data)\n",
    "    \n",
    "    def __getitem__(self, item):\n",
    "        text = str(self.input_data[item])\n",
    "        target = self.sentiment_targets[item]\n",
    "        # only difference with the previuous tokenization step is the encode-plus for special tokens\n",
    "        encoding = self.tokenizer.encode_plus(\n",
    "          text,\n",
    "          add_special_tokens=True,\n",
    "          max_length=self.max_len,\n",
    "          return_token_type_ids=False,\n",
    "          padding='max_length',\n",
    "          return_attention_mask=True,\n",
    "          return_tensors='pt',\n",
    "          truncation = True\n",
    "        )\n",
    "        return {\n",
    "          'text': text,\n",
    "          'input_ids': encoding['input_ids'].flatten(),\n",
    "          'attention_mask': encoding['attention_mask'].flatten(),\n",
    "          'labels': torch.tensor(target, dtype=torch.long)\n",
    "        }"
   ]
  },
  {
   "cell_type": "code",
   "execution_count": 21,
   "id": "7a52df7b",
   "metadata": {},
   "outputs": [],
   "source": [
    "# Creating our train-val-test datasets\n",
    "MAX_LEN = 128\n",
    "train_ds = BERTTutorialDataset(\n",
    "    input_data=train['sentence'].to_numpy(),\n",
    "        sentiment_targets=train['label'].to_numpy(),\n",
    "        tokenizer=tokenizer,\n",
    "        max_len=MAX_LEN\n",
    "    )\n",
    "val_ds = BERTTutorialDataset(\n",
    "    input_data=val['sentence'].to_numpy(),\n",
    "        sentiment_targets=val['label'].to_numpy(),\n",
    "        tokenizer=tokenizer,\n",
    "        max_len=MAX_LEN\n",
    "    )\n",
    "\n",
    "test_ds = BERTTutorialDataset(\n",
    "    input_data=test['sentence'].to_numpy(),\n",
    "        sentiment_targets=test['label'].to_numpy(),\n",
    "        tokenizer=tokenizer,\n",
    "        max_len=MAX_LEN\n",
    "    )\n"
   ]
  },
  {
   "cell_type": "code",
   "execution_count": 22,
   "id": "dfc2a773",
   "metadata": {},
   "outputs": [],
   "source": [
    "# Define some accuracy measure ( helpful for the early stopping )\n",
    "from sklearn.metrics import accuracy_score, recall_score, precision_score, f1_score\n",
    "import numpy as np\n",
    "def compute_metrics(p):\n",
    "    \"\"\"\n",
    "    Function to calculate accuracies and losses for the validation from the predicted outputs\n",
    "    This is neccessary for the early stopping. \n",
    "    \"\"\"\n",
    "    pred, labels = p\n",
    "    pred = np.argmax(pred, axis=1)\n",
    "    accuracy = accuracy_score(y_true=labels, y_pred=pred)\n",
    "    recall = recall_score(y_true=labels, y_pred=pred, average='macro')\n",
    "    precision = precision_score(y_true=labels, y_pred=pred, average='macro')\n",
    "    f1 = f1_score(y_true=labels, y_pred=pred, average='macro')    \n",
    "    return {\"accuracy\": accuracy, \"precision\": precision, \"recall\": recall, \"f1\": f1}\n"
   ]
  },
  {
   "cell_type": "code",
   "execution_count": 23,
   "id": "71b300ce",
   "metadata": {},
   "outputs": [
    {
     "name": "stderr",
     "output_type": "stream",
     "text": [
      "Using amp half precision backend\n"
     ]
    }
   ],
   "source": [
    "# Define trainning arguments \n",
    "training_args = TrainingArguments('BERT_TUTORIAL_MODEL', overwrite_output_dir=True, evaluation_strategy=\"steps\", \n",
    "                                  num_train_epochs=50, weight_decay=1e-8,learning_rate=1e-5,\n",
    "                                  eval_steps=50,metric_for_best_model='accuracy',\n",
    "                                 per_device_train_batch_size=16, per_device_eval_batch_size=16,\n",
    "                                 load_best_model_at_end = True, save_total_limit=10, save_steps=50,no_cuda=False,\n",
    "                             fp16=True,gradient_accumulation_steps=4)\n",
    "trainer = Trainer(\n",
    "    model =model, args=training_args, train_dataset=train_ds, eval_dataset=val_ds,\n",
    "    callbacks = [EarlyStoppingCallback(early_stopping_patience=5)], compute_metrics=compute_metrics\n",
    ")"
   ]
  },
  {
   "cell_type": "code",
   "execution_count": 24,
   "id": "bf13f2e4",
   "metadata": {
    "tags": []
   },
   "outputs": [
    {
     "name": "stderr",
     "output_type": "stream",
     "text": [
      "***** Running training *****\n",
      "  Num examples = 3633\n",
      "  Num Epochs = 50\n",
      "  Instantaneous batch size per device = 16\n",
      "  Total train batch size (w. parallel, distributed & accumulation) = 64\n",
      "  Gradient Accumulation steps = 4\n",
      "  Total optimization steps = 2850\n"
     ]
    },
    {
     "data": {
      "text/html": [
       "\n",
       "    <div>\n",
       "      \n",
       "      <progress value='1050' max='2850' style='width:300px; height:20px; vertical-align: middle;'></progress>\n",
       "      [1050/2850 21:12 < 36:26, 0.82 it/s, Epoch 18/50]\n",
       "    </div>\n",
       "    <table border=\"1\" class=\"dataframe\">\n",
       "  <thead>\n",
       " <tr style=\"text-align: left;\">\n",
       "      <th>Step</th>\n",
       "      <th>Training Loss</th>\n",
       "      <th>Validation Loss</th>\n",
       "      <th>Accuracy</th>\n",
       "      <th>Precision</th>\n",
       "      <th>Recall</th>\n",
       "      <th>F1</th>\n",
       "    </tr>\n",
       "  </thead>\n",
       "  <tbody>\n",
       "    <tr>\n",
       "      <td>50</td>\n",
       "      <td>No log</td>\n",
       "      <td>0.928814</td>\n",
       "      <td>0.616495</td>\n",
       "      <td>0.205498</td>\n",
       "      <td>0.333333</td>\n",
       "      <td>0.254252</td>\n",
       "    </tr>\n",
       "    <tr>\n",
       "      <td>100</td>\n",
       "      <td>No log</td>\n",
       "      <td>0.856737</td>\n",
       "      <td>0.647423</td>\n",
       "      <td>0.368049</td>\n",
       "      <td>0.373656</td>\n",
       "      <td>0.329069</td>\n",
       "    </tr>\n",
       "    <tr>\n",
       "      <td>150</td>\n",
       "      <td>No log</td>\n",
       "      <td>0.788579</td>\n",
       "      <td>0.661856</td>\n",
       "      <td>0.536953</td>\n",
       "      <td>0.461511</td>\n",
       "      <td>0.446089</td>\n",
       "    </tr>\n",
       "    <tr>\n",
       "      <td>200</td>\n",
       "      <td>No log</td>\n",
       "      <td>0.838215</td>\n",
       "      <td>0.628866</td>\n",
       "      <td>0.388787</td>\n",
       "      <td>0.453303</td>\n",
       "      <td>0.414593</td>\n",
       "    </tr>\n",
       "    <tr>\n",
       "      <td>250</td>\n",
       "      <td>No log</td>\n",
       "      <td>0.823000</td>\n",
       "      <td>0.684536</td>\n",
       "      <td>0.640621</td>\n",
       "      <td>0.465971</td>\n",
       "      <td>0.477195</td>\n",
       "    </tr>\n",
       "    <tr>\n",
       "      <td>300</td>\n",
       "      <td>No log</td>\n",
       "      <td>0.957413</td>\n",
       "      <td>0.659794</td>\n",
       "      <td>0.743213</td>\n",
       "      <td>0.435484</td>\n",
       "      <td>0.409800</td>\n",
       "    </tr>\n",
       "    <tr>\n",
       "      <td>350</td>\n",
       "      <td>No log</td>\n",
       "      <td>0.770547</td>\n",
       "      <td>0.682474</td>\n",
       "      <td>0.742312</td>\n",
       "      <td>0.462950</td>\n",
       "      <td>0.441057</td>\n",
       "    </tr>\n",
       "    <tr>\n",
       "      <td>400</td>\n",
       "      <td>No log</td>\n",
       "      <td>0.751887</td>\n",
       "      <td>0.686598</td>\n",
       "      <td>0.581833</td>\n",
       "      <td>0.516911</td>\n",
       "      <td>0.529841</td>\n",
       "    </tr>\n",
       "    <tr>\n",
       "      <td>450</td>\n",
       "      <td>No log</td>\n",
       "      <td>0.952682</td>\n",
       "      <td>0.668041</td>\n",
       "      <td>0.584543</td>\n",
       "      <td>0.457906</td>\n",
       "      <td>0.446611</td>\n",
       "    </tr>\n",
       "    <tr>\n",
       "      <td>500</td>\n",
       "      <td>0.744500</td>\n",
       "      <td>0.781731</td>\n",
       "      <td>0.680412</td>\n",
       "      <td>0.650079</td>\n",
       "      <td>0.504450</td>\n",
       "      <td>0.519265</td>\n",
       "    </tr>\n",
       "    <tr>\n",
       "      <td>550</td>\n",
       "      <td>0.744500</td>\n",
       "      <td>0.831976</td>\n",
       "      <td>0.668041</td>\n",
       "      <td>0.651187</td>\n",
       "      <td>0.531719</td>\n",
       "      <td>0.523404</td>\n",
       "    </tr>\n",
       "    <tr>\n",
       "      <td>600</td>\n",
       "      <td>0.744500</td>\n",
       "      <td>0.840635</td>\n",
       "      <td>0.676289</td>\n",
       "      <td>0.663254</td>\n",
       "      <td>0.527196</td>\n",
       "      <td>0.519654</td>\n",
       "    </tr>\n",
       "    <tr>\n",
       "      <td>650</td>\n",
       "      <td>0.744500</td>\n",
       "      <td>0.830610</td>\n",
       "      <td>0.692784</td>\n",
       "      <td>0.676006</td>\n",
       "      <td>0.532249</td>\n",
       "      <td>0.550324</td>\n",
       "    </tr>\n",
       "    <tr>\n",
       "      <td>700</td>\n",
       "      <td>0.744500</td>\n",
       "      <td>0.901900</td>\n",
       "      <td>0.709278</td>\n",
       "      <td>0.668698</td>\n",
       "      <td>0.532582</td>\n",
       "      <td>0.562010</td>\n",
       "    </tr>\n",
       "    <tr>\n",
       "      <td>750</td>\n",
       "      <td>0.744500</td>\n",
       "      <td>0.916970</td>\n",
       "      <td>0.686598</td>\n",
       "      <td>0.589772</td>\n",
       "      <td>0.605414</td>\n",
       "      <td>0.596297</td>\n",
       "    </tr>\n",
       "    <tr>\n",
       "      <td>800</td>\n",
       "      <td>0.744500</td>\n",
       "      <td>0.883267</td>\n",
       "      <td>0.719588</td>\n",
       "      <td>0.677453</td>\n",
       "      <td>0.619251</td>\n",
       "      <td>0.629903</td>\n",
       "    </tr>\n",
       "    <tr>\n",
       "      <td>850</td>\n",
       "      <td>0.744500</td>\n",
       "      <td>0.864733</td>\n",
       "      <td>0.701031</td>\n",
       "      <td>0.655197</td>\n",
       "      <td>0.566080</td>\n",
       "      <td>0.590876</td>\n",
       "    </tr>\n",
       "    <tr>\n",
       "      <td>900</td>\n",
       "      <td>0.744500</td>\n",
       "      <td>0.889107</td>\n",
       "      <td>0.709278</td>\n",
       "      <td>0.647875</td>\n",
       "      <td>0.593879</td>\n",
       "      <td>0.612588</td>\n",
       "    </tr>\n",
       "    <tr>\n",
       "      <td>950</td>\n",
       "      <td>0.744500</td>\n",
       "      <td>0.979369</td>\n",
       "      <td>0.711340</td>\n",
       "      <td>0.704813</td>\n",
       "      <td>0.560902</td>\n",
       "      <td>0.587601</td>\n",
       "    </tr>\n",
       "    <tr>\n",
       "      <td>1000</td>\n",
       "      <td>0.409000</td>\n",
       "      <td>0.987336</td>\n",
       "      <td>0.709278</td>\n",
       "      <td>0.705875</td>\n",
       "      <td>0.560902</td>\n",
       "      <td>0.590083</td>\n",
       "    </tr>\n",
       "    <tr>\n",
       "      <td>1050</td>\n",
       "      <td>0.409000</td>\n",
       "      <td>0.968426</td>\n",
       "      <td>0.713402</td>\n",
       "      <td>0.658292</td>\n",
       "      <td>0.601746</td>\n",
       "      <td>0.617260</td>\n",
       "    </tr>\n",
       "  </tbody>\n",
       "</table><p>"
      ],
      "text/plain": [
       "<IPython.core.display.HTML object>"
      ]
     },
     "metadata": {},
     "output_type": "display_data"
    },
    {
     "name": "stderr",
     "output_type": "stream",
     "text": [
      "***** Running Evaluation *****\n",
      "  Num examples = 485\n",
      "  Batch size = 16\n",
      "Saving model checkpoint to BERT_TUTORIAL_MODEL\\checkpoint-50\n",
      "Configuration saved in BERT_TUTORIAL_MODEL\\checkpoint-50\\config.json\n",
      "Model weights saved in BERT_TUTORIAL_MODEL\\checkpoint-50\\pytorch_model.bin\n",
      "Deleting older checkpoint [BERT_TUTORIAL_MODEL\\checkpoint-200] due to args.save_total_limit\n",
      "***** Running Evaluation *****\n",
      "  Num examples = 485\n",
      "  Batch size = 16\n",
      "Saving model checkpoint to BERT_TUTORIAL_MODEL\\checkpoint-100\n",
      "Configuration saved in BERT_TUTORIAL_MODEL\\checkpoint-100\\config.json\n",
      "Model weights saved in BERT_TUTORIAL_MODEL\\checkpoint-100\\pytorch_model.bin\n",
      "Deleting older checkpoint [BERT_TUTORIAL_MODEL\\checkpoint-250] due to args.save_total_limit\n",
      "***** Running Evaluation *****\n",
      "  Num examples = 485\n",
      "  Batch size = 16\n",
      "Saving model checkpoint to BERT_TUTORIAL_MODEL\\checkpoint-150\n",
      "Configuration saved in BERT_TUTORIAL_MODEL\\checkpoint-150\\config.json\n",
      "Model weights saved in BERT_TUTORIAL_MODEL\\checkpoint-150\\pytorch_model.bin\n",
      "Deleting older checkpoint [BERT_TUTORIAL_MODEL\\checkpoint-300] due to args.save_total_limit\n",
      "***** Running Evaluation *****\n",
      "  Num examples = 485\n",
      "  Batch size = 16\n",
      "Saving model checkpoint to BERT_TUTORIAL_MODEL\\checkpoint-200\n",
      "Configuration saved in BERT_TUTORIAL_MODEL\\checkpoint-200\\config.json\n",
      "Model weights saved in BERT_TUTORIAL_MODEL\\checkpoint-200\\pytorch_model.bin\n",
      "Deleting older checkpoint [BERT_TUTORIAL_MODEL\\checkpoint-350] due to args.save_total_limit\n",
      "***** Running Evaluation *****\n",
      "  Num examples = 485\n",
      "  Batch size = 16\n",
      "Saving model checkpoint to BERT_TUTORIAL_MODEL\\checkpoint-250\n",
      "Configuration saved in BERT_TUTORIAL_MODEL\\checkpoint-250\\config.json\n",
      "Model weights saved in BERT_TUTORIAL_MODEL\\checkpoint-250\\pytorch_model.bin\n",
      "Deleting older checkpoint [BERT_TUTORIAL_MODEL\\checkpoint-400] due to args.save_total_limit\n",
      "***** Running Evaluation *****\n",
      "  Num examples = 485\n",
      "  Batch size = 16\n",
      "Saving model checkpoint to BERT_TUTORIAL_MODEL\\checkpoint-300\n",
      "Configuration saved in BERT_TUTORIAL_MODEL\\checkpoint-300\\config.json\n",
      "Model weights saved in BERT_TUTORIAL_MODEL\\checkpoint-300\\pytorch_model.bin\n",
      "Deleting older checkpoint [BERT_TUTORIAL_MODEL\\checkpoint-450] due to args.save_total_limit\n",
      "***** Running Evaluation *****\n",
      "  Num examples = 485\n",
      "  Batch size = 16\n",
      "Saving model checkpoint to BERT_TUTORIAL_MODEL\\checkpoint-350\n",
      "Configuration saved in BERT_TUTORIAL_MODEL\\checkpoint-350\\config.json\n",
      "Model weights saved in BERT_TUTORIAL_MODEL\\checkpoint-350\\pytorch_model.bin\n",
      "Deleting older checkpoint [BERT_TUTORIAL_MODEL\\checkpoint-500] due to args.save_total_limit\n",
      "***** Running Evaluation *****\n",
      "  Num examples = 485\n",
      "  Batch size = 16\n",
      "Saving model checkpoint to BERT_TUTORIAL_MODEL\\checkpoint-400\n",
      "Configuration saved in BERT_TUTORIAL_MODEL\\checkpoint-400\\config.json\n",
      "Model weights saved in BERT_TUTORIAL_MODEL\\checkpoint-400\\pytorch_model.bin\n",
      "Deleting older checkpoint [BERT_TUTORIAL_MODEL\\checkpoint-550] due to args.save_total_limit\n",
      "***** Running Evaluation *****\n",
      "  Num examples = 485\n",
      "  Batch size = 16\n",
      "Saving model checkpoint to BERT_TUTORIAL_MODEL\\checkpoint-450\n",
      "Configuration saved in BERT_TUTORIAL_MODEL\\checkpoint-450\\config.json\n",
      "Model weights saved in BERT_TUTORIAL_MODEL\\checkpoint-450\\pytorch_model.bin\n",
      "Deleting older checkpoint [BERT_TUTORIAL_MODEL\\checkpoint-600] due to args.save_total_limit\n",
      "***** Running Evaluation *****\n",
      "  Num examples = 485\n",
      "  Batch size = 16\n",
      "Saving model checkpoint to BERT_TUTORIAL_MODEL\\checkpoint-500\n",
      "Configuration saved in BERT_TUTORIAL_MODEL\\checkpoint-500\\config.json\n",
      "Model weights saved in BERT_TUTORIAL_MODEL\\checkpoint-500\\pytorch_model.bin\n",
      "Deleting older checkpoint [BERT_TUTORIAL_MODEL\\checkpoint-650] due to args.save_total_limit\n",
      "***** Running Evaluation *****\n",
      "  Num examples = 485\n",
      "  Batch size = 16\n",
      "Saving model checkpoint to BERT_TUTORIAL_MODEL\\checkpoint-550\n",
      "Configuration saved in BERT_TUTORIAL_MODEL\\checkpoint-550\\config.json\n",
      "Model weights saved in BERT_TUTORIAL_MODEL\\checkpoint-550\\pytorch_model.bin\n",
      "Deleting older checkpoint [BERT_TUTORIAL_MODEL\\checkpoint-50] due to args.save_total_limit\n",
      "***** Running Evaluation *****\n",
      "  Num examples = 485\n",
      "  Batch size = 16\n",
      "Saving model checkpoint to BERT_TUTORIAL_MODEL\\checkpoint-600\n",
      "Configuration saved in BERT_TUTORIAL_MODEL\\checkpoint-600\\config.json\n",
      "Model weights saved in BERT_TUTORIAL_MODEL\\checkpoint-600\\pytorch_model.bin\n",
      "Deleting older checkpoint [BERT_TUTORIAL_MODEL\\checkpoint-100] due to args.save_total_limit\n",
      "***** Running Evaluation *****\n",
      "  Num examples = 485\n",
      "  Batch size = 16\n",
      "Saving model checkpoint to BERT_TUTORIAL_MODEL\\checkpoint-650\n",
      "Configuration saved in BERT_TUTORIAL_MODEL\\checkpoint-650\\config.json\n",
      "Model weights saved in BERT_TUTORIAL_MODEL\\checkpoint-650\\pytorch_model.bin\n",
      "Deleting older checkpoint [BERT_TUTORIAL_MODEL\\checkpoint-150] due to args.save_total_limit\n",
      "***** Running Evaluation *****\n",
      "  Num examples = 485\n",
      "  Batch size = 16\n",
      "Saving model checkpoint to BERT_TUTORIAL_MODEL\\checkpoint-700\n",
      "Configuration saved in BERT_TUTORIAL_MODEL\\checkpoint-700\\config.json\n",
      "Model weights saved in BERT_TUTORIAL_MODEL\\checkpoint-700\\pytorch_model.bin\n",
      "Deleting older checkpoint [BERT_TUTORIAL_MODEL\\checkpoint-200] due to args.save_total_limit\n",
      "***** Running Evaluation *****\n",
      "  Num examples = 485\n",
      "  Batch size = 16\n",
      "Saving model checkpoint to BERT_TUTORIAL_MODEL\\checkpoint-750\n",
      "Configuration saved in BERT_TUTORIAL_MODEL\\checkpoint-750\\config.json\n",
      "Model weights saved in BERT_TUTORIAL_MODEL\\checkpoint-750\\pytorch_model.bin\n",
      "Deleting older checkpoint [BERT_TUTORIAL_MODEL\\checkpoint-250] due to args.save_total_limit\n",
      "***** Running Evaluation *****\n",
      "  Num examples = 485\n",
      "  Batch size = 16\n",
      "Saving model checkpoint to BERT_TUTORIAL_MODEL\\checkpoint-800\n",
      "Configuration saved in BERT_TUTORIAL_MODEL\\checkpoint-800\\config.json\n",
      "Model weights saved in BERT_TUTORIAL_MODEL\\checkpoint-800\\pytorch_model.bin\n",
      "Deleting older checkpoint [BERT_TUTORIAL_MODEL\\checkpoint-300] due to args.save_total_limit\n",
      "***** Running Evaluation *****\n",
      "  Num examples = 485\n",
      "  Batch size = 16\n",
      "Saving model checkpoint to BERT_TUTORIAL_MODEL\\checkpoint-850\n",
      "Configuration saved in BERT_TUTORIAL_MODEL\\checkpoint-850\\config.json\n",
      "Model weights saved in BERT_TUTORIAL_MODEL\\checkpoint-850\\pytorch_model.bin\n",
      "Deleting older checkpoint [BERT_TUTORIAL_MODEL\\checkpoint-350] due to args.save_total_limit\n",
      "***** Running Evaluation *****\n",
      "  Num examples = 485\n",
      "  Batch size = 16\n",
      "Saving model checkpoint to BERT_TUTORIAL_MODEL\\checkpoint-900\n",
      "Configuration saved in BERT_TUTORIAL_MODEL\\checkpoint-900\\config.json\n",
      "Model weights saved in BERT_TUTORIAL_MODEL\\checkpoint-900\\pytorch_model.bin\n",
      "Deleting older checkpoint [BERT_TUTORIAL_MODEL\\checkpoint-400] due to args.save_total_limit\n",
      "***** Running Evaluation *****\n",
      "  Num examples = 485\n",
      "  Batch size = 16\n",
      "Saving model checkpoint to BERT_TUTORIAL_MODEL\\checkpoint-950\n",
      "Configuration saved in BERT_TUTORIAL_MODEL\\checkpoint-950\\config.json\n",
      "Model weights saved in BERT_TUTORIAL_MODEL\\checkpoint-950\\pytorch_model.bin\n",
      "Deleting older checkpoint [BERT_TUTORIAL_MODEL\\checkpoint-450] due to args.save_total_limit\n",
      "***** Running Evaluation *****\n",
      "  Num examples = 485\n",
      "  Batch size = 16\n",
      "Saving model checkpoint to BERT_TUTORIAL_MODEL\\checkpoint-1000\n",
      "Configuration saved in BERT_TUTORIAL_MODEL\\checkpoint-1000\\config.json\n",
      "Model weights saved in BERT_TUTORIAL_MODEL\\checkpoint-1000\\pytorch_model.bin\n",
      "Deleting older checkpoint [BERT_TUTORIAL_MODEL\\checkpoint-500] due to args.save_total_limit\n",
      "***** Running Evaluation *****\n",
      "  Num examples = 485\n",
      "  Batch size = 16\n",
      "Saving model checkpoint to BERT_TUTORIAL_MODEL\\checkpoint-1050\n",
      "Configuration saved in BERT_TUTORIAL_MODEL\\checkpoint-1050\\config.json\n",
      "Model weights saved in BERT_TUTORIAL_MODEL\\checkpoint-1050\\pytorch_model.bin\n",
      "Deleting older checkpoint [BERT_TUTORIAL_MODEL\\checkpoint-550] due to args.save_total_limit\n",
      "\n",
      "\n",
      "Training completed. Do not forget to share your model on huggingface.co/models =)\n",
      "\n",
      "\n",
      "Loading best model from BERT_TUTORIAL_MODEL\\checkpoint-800 (score: 0.7195876288659794).\n"
     ]
    },
    {
     "data": {
      "text/plain": [
       "TrainOutput(global_step=1050, training_loss=0.5613758604867117, metrics={'train_runtime': 1276.1648, 'train_samples_per_second': 142.341, 'train_steps_per_second': 2.233, 'total_flos': 4402545262133760.0, 'train_loss': 0.5613758604867117, 'epoch': 18.42})"
      ]
     },
     "execution_count": 24,
     "metadata": {},
     "output_type": "execute_result"
    }
   ],
   "source": [
    "trainer.train()"
   ]
  },
  {
   "cell_type": "code",
   "execution_count": 25,
   "id": "899ef4cd",
   "metadata": {
    "tags": []
   },
   "outputs": [
    {
     "name": "stderr",
     "output_type": "stream",
     "text": [
      "***** Running Evaluation *****\n",
      "  Num examples = 727\n",
      "  Batch size = 16\n"
     ]
    },
    {
     "data": {
      "text/html": [
       "\n",
       "    <div>\n",
       "      \n",
       "      <progress value='92' max='46' style='width:300px; height:20px; vertical-align: middle;'></progress>\n",
       "      [46/46 00:12]\n",
       "    </div>\n",
       "    "
      ],
      "text/plain": [
       "<IPython.core.display.HTML object>"
      ]
     },
     "metadata": {},
     "output_type": "display_data"
    },
    {
     "data": {
      "text/plain": [
       "{'eval_loss': 0.963792622089386,\n",
       " 'eval_accuracy': 0.6671251719394773,\n",
       " 'eval_precision': 0.6387364719011513,\n",
       " 'eval_recall': 0.5910578460489896,\n",
       " 'eval_f1': 0.5973725368696158,\n",
       " 'eval_runtime': 6.2896,\n",
       " 'eval_samples_per_second': 115.588,\n",
       " 'eval_steps_per_second': 7.314,\n",
       " 'epoch': 18.42}"
      ]
     },
     "execution_count": 25,
     "metadata": {},
     "output_type": "execute_result"
    }
   ],
   "source": [
    "trainer.evaluate(test_ds)"
   ]
  },
  {
   "cell_type": "code",
   "execution_count": 26,
   "id": "79371fdd",
   "metadata": {
    "tags": []
   },
   "outputs": [
    {
     "name": "stderr",
     "output_type": "stream",
     "text": [
      "***** Running Prediction *****\n",
      "  Num examples = 727\n",
      "  Batch size = 16\n"
     ]
    }
   ],
   "source": [
    "from sklearn.metrics import confusion_matrix\n",
    "import matplotlib.pyplot as plt\n",
    "import seaborn as sns\n",
    "\n",
    "predictions = trainer.predict(test_ds)"
   ]
  },
  {
   "cell_type": "code",
   "execution_count": 27,
   "id": "68ae1519",
   "metadata": {},
   "outputs": [
    {
     "data": {
      "text/plain": [
       "<AxesSubplot:>"
      ]
     },
     "execution_count": 27,
     "metadata": {},
     "output_type": "execute_result"
    },
    {
     "data": {
      "image/png": "[encoded data removed]",
      "text/plain": [
       "<Figure size 432x288 with 2 Axes>"
      ]
     },
     "metadata": {
      "needs_background": "light"
     },
     "output_type": "display_data"
    }
   ],
   "source": [
    "output = np.argmax(predictions.predictions,1)\n",
    "sns.heatmap(confusion_matrix(test.label.values,output))#,labels = ['1','-1','0']"
   ]
  },
  {
   "cell_type": "code",
   "execution_count": 28,
   "id": "5168830c-7a43-4de3-837c-8fae2ad2efc2",
   "metadata": {},
   "outputs": [
    {
     "data": {
      "text/plain": [
       "array([[301, 108,  15],\n",
       "       [ 56, 153,   5],\n",
       "       [ 25,  33,  31]], dtype=int64)"
      ]
     },
     "execution_count": 28,
     "metadata": {},
     "output_type": "execute_result"
    }
   ],
   "source": [
    "confusion_matrix(test.label.values,output)"
   ]
  },
  {
   "cell_type": "code",
   "execution_count": 29,
   "id": "9cbfe5c9-5e8d-44bc-a18b-9f63d530b85e",
   "metadata": {},
   "outputs": [],
   "source": [
    "del model\n",
    "del trainer\n",
    "del train_ds\n",
    "del val_ds\n",
    "del test_ds\n",
    "del predictions\n",
    "del tokenizer\n",
    "torch.cuda.empty_cache()"
   ]
  },
  {
   "cell_type": "code",
   "execution_count": 30,
   "id": "ad063e57-d68f-4a52-9221-1fdd253950bc",
   "metadata": {
    "tags": []
   },
   "outputs": [
    {
     "name": "stderr",
     "output_type": "stream",
     "text": [
      "loading configuration file https://huggingface.co/ProsusAI/finbert/resolve/main/config.json from cache at C:\\Users\\drago/.cache\\huggingface\\transformers\\2120f4f96b5830e5a91fe94d242471b0133b0976c8d6e081594ab837ac5f17bc.ef97278c578016c8bb785f15296476b12eae86423097fed78719d1c8197a3430\n",
      "Model config BertConfig {\n",
      "  \"_name_or_path\": \"ProsusAI/finbert\",\n",
      "  \"architectures\": [\n",
      "    \"BertForSequenceClassification\"\n",
      "  ],\n",
      "  \"attention_probs_dropout_prob\": 0.1,\n",
      "  \"classifier_dropout\": null,\n",
      "  \"gradient_checkpointing\": false,\n",
      "  \"hidden_act\": \"gelu\",\n",
      "  \"hidden_dropout_prob\": 0.1,\n",
      "  \"hidden_size\": 768,\n",
      "  \"id2label\": {\n",
      "    \"0\": \"positive\",\n",
      "    \"1\": \"negative\",\n",
      "    \"2\": \"neutral\"\n",
      "  },\n",
      "  \"initializer_range\": 0.02,\n",
      "  \"intermediate_size\": 3072,\n",
      "  \"label2id\": {\n",
      "    \"negative\": 1,\n",
      "    \"neutral\": 2,\n",
      "    \"positive\": 0\n",
      "  },\n",
      "  \"layer_norm_eps\": 1e-12,\n",
      "  \"max_position_embeddings\": 512,\n",
      "  \"model_type\": \"bert\",\n",
      "  \"num_attention_heads\": 12,\n",
      "  \"num_hidden_layers\": 12,\n",
      "  \"pad_token_id\": 0,\n",
      "  \"position_embedding_type\": \"absolute\",\n",
      "  \"transformers_version\": \"4.16.2\",\n",
      "  \"type_vocab_size\": 2,\n",
      "  \"use_cache\": true,\n",
      "  \"vocab_size\": 30522\n",
      "}\n",
      "\n",
      "loading file https://huggingface.co/ProsusAI/finbert/resolve/main/vocab.txt from cache at C:\\Users\\drago/.cache\\huggingface\\transformers\\a5b1a5451c9cf1702eec1072ac325d4af10e675a654628eab453b8cba2c6b111.d789d64ebfe299b0e416afc4a169632f903f693095b4629a7ea271d5a0cf2c99\n",
      "loading file https://huggingface.co/ProsusAI/finbert/resolve/main/tokenizer.json from cache at None\n",
      "loading file https://huggingface.co/ProsusAI/finbert/resolve/main/added_tokens.json from cache at None\n",
      "loading file https://huggingface.co/ProsusAI/finbert/resolve/main/special_tokens_map.json from cache at C:\\Users\\drago/.cache\\huggingface\\transformers\\4c21e8896b03f68c2e028133cf579267c62aba9de03a704a0845704e58eefe9e.dd8bd9bfd3664b530ea4e645105f557769387b3da9f79bdb55ed556bdd80611d\n",
      "loading file https://huggingface.co/ProsusAI/finbert/resolve/main/tokenizer_config.json from cache at C:\\Users\\drago/.cache\\huggingface\\transformers\\e3709a60694f45adca209a405cc69ce2b5d47b1cae60696ed9a901426be8c43d.8b6dccc90d16201c6d7ab0f3c6cc38e74b5f2fe587f6efadc9fa71fc0a00c606\n",
      "loading configuration file https://huggingface.co/ProsusAI/finbert/resolve/main/config.json from cache at C:\\Users\\drago/.cache\\huggingface\\transformers\\2120f4f96b5830e5a91fe94d242471b0133b0976c8d6e081594ab837ac5f17bc.ef97278c578016c8bb785f15296476b12eae86423097fed78719d1c8197a3430\n",
      "Model config BertConfig {\n",
      "  \"_name_or_path\": \"ProsusAI/finbert\",\n",
      "  \"architectures\": [\n",
      "    \"BertForSequenceClassification\"\n",
      "  ],\n",
      "  \"attention_probs_dropout_prob\": 0.1,\n",
      "  \"classifier_dropout\": null,\n",
      "  \"gradient_checkpointing\": false,\n",
      "  \"hidden_act\": \"gelu\",\n",
      "  \"hidden_dropout_prob\": 0.1,\n",
      "  \"hidden_size\": 768,\n",
      "  \"id2label\": {\n",
      "    \"0\": \"positive\",\n",
      "    \"1\": \"negative\",\n",
      "    \"2\": \"neutral\"\n",
      "  },\n",
      "  \"initializer_range\": 0.02,\n",
      "  \"intermediate_size\": 3072,\n",
      "  \"label2id\": {\n",
      "    \"negative\": 1,\n",
      "    \"neutral\": 2,\n",
      "    \"positive\": 0\n",
      "  },\n",
      "  \"layer_norm_eps\": 1e-12,\n",
      "  \"max_position_embeddings\": 512,\n",
      "  \"model_type\": \"bert\",\n",
      "  \"num_attention_heads\": 12,\n",
      "  \"num_hidden_layers\": 12,\n",
      "  \"pad_token_id\": 0,\n",
      "  \"position_embedding_type\": \"absolute\",\n",
      "  \"transformers_version\": \"4.16.2\",\n",
      "  \"type_vocab_size\": 2,\n",
      "  \"use_cache\": true,\n",
      "  \"vocab_size\": 30522\n",
      "}\n",
      "\n",
      "loading configuration file https://huggingface.co/ProsusAI/finbert/resolve/main/config.json from cache at C:\\Users\\drago/.cache\\huggingface\\transformers\\2120f4f96b5830e5a91fe94d242471b0133b0976c8d6e081594ab837ac5f17bc.ef97278c578016c8bb785f15296476b12eae86423097fed78719d1c8197a3430\n",
      "Model config BertConfig {\n",
      "  \"_name_or_path\": \"ProsusAI/finbert\",\n",
      "  \"architectures\": [\n",
      "    \"BertForSequenceClassification\"\n",
      "  ],\n",
      "  \"attention_probs_dropout_prob\": 0.1,\n",
      "  \"classifier_dropout\": null,\n",
      "  \"gradient_checkpointing\": false,\n",
      "  \"hidden_act\": \"gelu\",\n",
      "  \"hidden_dropout_prob\": 0.1,\n",
      "  \"hidden_size\": 768,\n",
      "  \"id2label\": {\n",
      "    \"0\": \"positive\",\n",
      "    \"1\": \"negative\",\n",
      "    \"2\": \"neutral\"\n",
      "  },\n",
      "  \"initializer_range\": 0.02,\n",
      "  \"intermediate_size\": 3072,\n",
      "  \"label2id\": {\n",
      "    \"negative\": 1,\n",
      "    \"neutral\": 2,\n",
      "    \"positive\": 0\n",
      "  },\n",
      "  \"layer_norm_eps\": 1e-12,\n",
      "  \"max_position_embeddings\": 512,\n",
      "  \"model_type\": \"bert\",\n",
      "  \"num_attention_heads\": 12,\n",
      "  \"num_hidden_layers\": 12,\n",
      "  \"pad_token_id\": 0,\n",
      "  \"position_embedding_type\": \"absolute\",\n",
      "  \"transformers_version\": \"4.16.2\",\n",
      "  \"type_vocab_size\": 2,\n",
      "  \"use_cache\": true,\n",
      "  \"vocab_size\": 30522\n",
      "}\n",
      "\n",
      "loading configuration file https://huggingface.co/ProsusAI/finbert/resolve/main/config.json from cache at C:\\Users\\drago/.cache\\huggingface\\transformers\\2120f4f96b5830e5a91fe94d242471b0133b0976c8d6e081594ab837ac5f17bc.ef97278c578016c8bb785f15296476b12eae86423097fed78719d1c8197a3430\n",
      "Model config BertConfig {\n",
      "  \"_name_or_path\": \"ProsusAI/finbert\",\n",
      "  \"architectures\": [\n",
      "    \"BertForSequenceClassification\"\n",
      "  ],\n",
      "  \"attention_probs_dropout_prob\": 0.1,\n",
      "  \"classifier_dropout\": null,\n",
      "  \"gradient_checkpointing\": false,\n",
      "  \"hidden_act\": \"gelu\",\n",
      "  \"hidden_dropout_prob\": 0.1,\n",
      "  \"hidden_size\": 768,\n",
      "  \"id2label\": {\n",
      "    \"0\": \"positive\",\n",
      "    \"1\": \"negative\",\n",
      "    \"2\": \"neutral\"\n",
      "  },\n",
      "  \"initializer_range\": 0.02,\n",
      "  \"intermediate_size\": 3072,\n",
      "  \"label2id\": {\n",
      "    \"negative\": 1,\n",
      "    \"neutral\": 2,\n",
      "    \"positive\": 0\n",
      "  },\n",
      "  \"layer_norm_eps\": 1e-12,\n",
      "  \"max_position_embeddings\": 512,\n",
      "  \"model_type\": \"bert\",\n",
      "  \"num_attention_heads\": 12,\n",
      "  \"num_hidden_layers\": 12,\n",
      "  \"pad_token_id\": 0,\n",
      "  \"position_embedding_type\": \"absolute\",\n",
      "  \"transformers_version\": \"4.16.2\",\n",
      "  \"type_vocab_size\": 2,\n",
      "  \"use_cache\": true,\n",
      "  \"vocab_size\": 30522\n",
      "}\n",
      "\n"
     ]
    }
   ],
   "source": [
    "# Try with finbert \n",
    "#  define tokenizer & model --> this is just a change from the previous code above\n",
    "finbert_tokenizer = AutoTokenizer.from_pretrained(\"ProsusAI/finbert\")\n",
    "\n",
    "# turn the configuration for a 3 sentiment classification task\n",
    "config = AutoConfig.from_pretrained(\"ProsusAI/finbert\")\n",
    "config.num_labels = 3\n",
    "\n",
    "finbert_model = AutoModelForSequenceClassification.from_config(config)\n",
    "\n",
    "# redefine our datasets as wechanged the tokenizer \n",
    "\n",
    "MAX_LEN = 128\n",
    "train_ds = BERTTutorialDataset(\n",
    "    input_data=train['sentence'].to_numpy(),\n",
    "        sentiment_targets=train['label'].to_numpy(),\n",
    "        tokenizer=finbert_tokenizer,\n",
    "        max_len=MAX_LEN\n",
    "    )\n",
    "val_ds = BERTTutorialDataset(\n",
    "    input_data=val['sentence'].to_numpy(),\n",
    "        sentiment_targets=val['label'].to_numpy(),\n",
    "        tokenizer=finbert_tokenizer,\n",
    "        max_len=MAX_LEN\n",
    "    )\n",
    "\n",
    "test_ds = BERTTutorialDataset(\n",
    "    input_data=test['sentence'].to_numpy(),\n",
    "        sentiment_targets=test['label'].to_numpy(),\n",
    "        tokenizer=finbert_tokenizer,\n",
    "        max_len=MAX_LEN\n",
    "    )\n"
   ]
  },
  {
   "cell_type": "code",
   "execution_count": 31,
   "id": "4368c340-094d-4460-b7a4-3de3c8ae1613",
   "metadata": {},
   "outputs": [
    {
     "name": "stderr",
     "output_type": "stream",
     "text": [
      "PyTorch: setting up devices\n",
      "The default value for the training argument `--report_to` will change in v5 (from all installed integrations to none). In v5, you will need to use `--report_to all` to get the same behavior as now. You should start updating your code and make this info disappear :-).\n",
      "Using amp half precision backend\n"
     ]
    }
   ],
   "source": [
    "# Define trainning arguments \n",
    "training_args = TrainingArguments('FINBERT_TUTORIAL_MODEL', overwrite_output_dir=True, evaluation_strategy=\"steps\", \n",
    "                                  num_train_epochs=50, weight_decay=1e-8,learning_rate=1e-5,\n",
    "                                  eval_steps=50,metric_for_best_model='accuracy',\n",
    "                                 per_device_train_batch_size=16, per_device_eval_batch_size=16,\n",
    "                                 load_best_model_at_end = True, save_total_limit=10, save_steps=50,no_cuda=False,\n",
    "                             fp16=True,gradient_accumulation_steps=4)\n",
    "trainer = Trainer(\n",
    "    model =finbert_model, args=training_args, train_dataset=train_ds, eval_dataset=val_ds,\n",
    "    callbacks = [EarlyStoppingCallback(early_stopping_patience=3)], compute_metrics=compute_metrics\n",
    ")"
   ]
  },
  {
   "cell_type": "code",
   "execution_count": 32,
   "id": "82bb6407-42b6-465e-b15e-603f7695b308",
   "metadata": {
    "tags": []
   },
   "outputs": [
    {
     "name": "stderr",
     "output_type": "stream",
     "text": [
      "***** Running training *****\n",
      "  Num examples = 3633\n",
      "  Num Epochs = 50\n",
      "  Instantaneous batch size per device = 16\n",
      "  Total train batch size (w. parallel, distributed & accumulation) = 64\n",
      "  Gradient Accumulation steps = 4\n",
      "  Total optimization steps = 2850\n"
     ]
    },
    {
     "data": {
      "text/html": [
       "\n",
       "    <div>\n",
       "      \n",
       "      <progress value='450' max='2850' style='width:300px; height:20px; vertical-align: middle;'></progress>\n",
       "      [ 450/2850 09:01 < 48:18, 0.83 it/s, Epoch 7/50]\n",
       "    </div>\n",
       "    <table border=\"1\" class=\"dataframe\">\n",
       "  <thead>\n",
       " <tr style=\"text-align: left;\">\n",
       "      <th>Step</th>\n",
       "      <th>Training Loss</th>\n",
       "      <th>Validation Loss</th>\n",
       "      <th>Accuracy</th>\n",
       "      <th>Precision</th>\n",
       "      <th>Recall</th>\n",
       "      <th>F1</th>\n",
       "    </tr>\n",
       "  </thead>\n",
       "  <tbody>\n",
       "    <tr>\n",
       "      <td>50</td>\n",
       "      <td>No log</td>\n",
       "      <td>0.866877</td>\n",
       "      <td>0.655670</td>\n",
       "      <td>0.379775</td>\n",
       "      <td>0.385982</td>\n",
       "      <td>0.347946</td>\n",
       "    </tr>\n",
       "    <tr>\n",
       "      <td>100</td>\n",
       "      <td>No log</td>\n",
       "      <td>0.798958</td>\n",
       "      <td>0.661856</td>\n",
       "      <td>0.383019</td>\n",
       "      <td>0.405060</td>\n",
       "      <td>0.375458</td>\n",
       "    </tr>\n",
       "    <tr>\n",
       "      <td>150</td>\n",
       "      <td>No log</td>\n",
       "      <td>0.790812</td>\n",
       "      <td>0.668041</td>\n",
       "      <td>0.577104</td>\n",
       "      <td>0.438891</td>\n",
       "      <td>0.441481</td>\n",
       "    </tr>\n",
       "    <tr>\n",
       "      <td>200</td>\n",
       "      <td>No log</td>\n",
       "      <td>0.788355</td>\n",
       "      <td>0.661856</td>\n",
       "      <td>0.391183</td>\n",
       "      <td>0.444393</td>\n",
       "      <td>0.415665</td>\n",
       "    </tr>\n",
       "    <tr>\n",
       "      <td>250</td>\n",
       "      <td>No log</td>\n",
       "      <td>0.778862</td>\n",
       "      <td>0.668041</td>\n",
       "      <td>0.723798</td>\n",
       "      <td>0.436266</td>\n",
       "      <td>0.415665</td>\n",
       "    </tr>\n",
       "    <tr>\n",
       "      <td>300</td>\n",
       "      <td>No log</td>\n",
       "      <td>0.759319</td>\n",
       "      <td>0.686598</td>\n",
       "      <td>0.589647</td>\n",
       "      <td>0.521631</td>\n",
       "      <td>0.538242</td>\n",
       "    </tr>\n",
       "    <tr>\n",
       "      <td>350</td>\n",
       "      <td>No log</td>\n",
       "      <td>0.762198</td>\n",
       "      <td>0.682474</td>\n",
       "      <td>0.575031</td>\n",
       "      <td>0.497240</td>\n",
       "      <td>0.510482</td>\n",
       "    </tr>\n",
       "    <tr>\n",
       "      <td>400</td>\n",
       "      <td>No log</td>\n",
       "      <td>0.759441</td>\n",
       "      <td>0.674227</td>\n",
       "      <td>0.745806</td>\n",
       "      <td>0.489499</td>\n",
       "      <td>0.462450</td>\n",
       "    </tr>\n",
       "    <tr>\n",
       "      <td>450</td>\n",
       "      <td>No log</td>\n",
       "      <td>0.842594</td>\n",
       "      <td>0.632990</td>\n",
       "      <td>0.586049</td>\n",
       "      <td>0.521946</td>\n",
       "      <td>0.519378</td>\n",
       "    </tr>\n",
       "  </tbody>\n",
       "</table><p>"
      ],
      "text/plain": [
       "<IPython.core.display.HTML object>"
      ]
     },
     "metadata": {},
     "output_type": "display_data"
    },
    {
     "name": "stderr",
     "output_type": "stream",
     "text": [
      "***** Running Evaluation *****\n",
      "  Num examples = 485\n",
      "  Batch size = 16\n",
      "Saving model checkpoint to FINBERT_TUTORIAL_MODEL\\checkpoint-50\n",
      "Configuration saved in FINBERT_TUTORIAL_MODEL\\checkpoint-50\\config.json\n",
      "Model weights saved in FINBERT_TUTORIAL_MODEL\\checkpoint-50\\pytorch_model.bin\n",
      "Deleting older checkpoint [FINBERT_TUTORIAL_MODEL\\checkpoint-200] due to args.save_total_limit\n",
      "***** Running Evaluation *****\n",
      "  Num examples = 485\n",
      "  Batch size = 16\n",
      "Saving model checkpoint to FINBERT_TUTORIAL_MODEL\\checkpoint-100\n",
      "Configuration saved in FINBERT_TUTORIAL_MODEL\\checkpoint-100\\config.json\n",
      "Model weights saved in FINBERT_TUTORIAL_MODEL\\checkpoint-100\\pytorch_model.bin\n",
      "Deleting older checkpoint [FINBERT_TUTORIAL_MODEL\\checkpoint-250] due to args.save_total_limit\n",
      "***** Running Evaluation *****\n",
      "  Num examples = 485\n",
      "  Batch size = 16\n",
      "Saving model checkpoint to FINBERT_TUTORIAL_MODEL\\checkpoint-150\n",
      "Configuration saved in FINBERT_TUTORIAL_MODEL\\checkpoint-150\\config.json\n",
      "Model weights saved in FINBERT_TUTORIAL_MODEL\\checkpoint-150\\pytorch_model.bin\n",
      "Deleting older checkpoint [FINBERT_TUTORIAL_MODEL\\checkpoint-300] due to args.save_total_limit\n",
      "***** Running Evaluation *****\n",
      "  Num examples = 485\n",
      "  Batch size = 16\n",
      "Saving model checkpoint to FINBERT_TUTORIAL_MODEL\\checkpoint-200\n",
      "Configuration saved in FINBERT_TUTORIAL_MODEL\\checkpoint-200\\config.json\n",
      "Model weights saved in FINBERT_TUTORIAL_MODEL\\checkpoint-200\\pytorch_model.bin\n",
      "Deleting older checkpoint [FINBERT_TUTORIAL_MODEL\\checkpoint-350] due to args.save_total_limit\n",
      "***** Running Evaluation *****\n",
      "  Num examples = 485\n",
      "  Batch size = 16\n",
      "Saving model checkpoint to FINBERT_TUTORIAL_MODEL\\checkpoint-250\n",
      "Configuration saved in FINBERT_TUTORIAL_MODEL\\checkpoint-250\\config.json\n",
      "Model weights saved in FINBERT_TUTORIAL_MODEL\\checkpoint-250\\pytorch_model.bin\n",
      "Deleting older checkpoint [FINBERT_TUTORIAL_MODEL\\checkpoint-400] due to args.save_total_limit\n",
      "***** Running Evaluation *****\n",
      "  Num examples = 485\n",
      "  Batch size = 16\n",
      "Saving model checkpoint to FINBERT_TUTORIAL_MODEL\\checkpoint-300\n",
      "Configuration saved in FINBERT_TUTORIAL_MODEL\\checkpoint-300\\config.json\n",
      "Model weights saved in FINBERT_TUTORIAL_MODEL\\checkpoint-300\\pytorch_model.bin\n",
      "Deleting older checkpoint [FINBERT_TUTORIAL_MODEL\\checkpoint-450] due to args.save_total_limit\n",
      "***** Running Evaluation *****\n",
      "  Num examples = 485\n",
      "  Batch size = 16\n",
      "Saving model checkpoint to FINBERT_TUTORIAL_MODEL\\checkpoint-350\n",
      "Configuration saved in FINBERT_TUTORIAL_MODEL\\checkpoint-350\\config.json\n",
      "Model weights saved in FINBERT_TUTORIAL_MODEL\\checkpoint-350\\pytorch_model.bin\n",
      "Deleting older checkpoint [FINBERT_TUTORIAL_MODEL\\checkpoint-500] due to args.save_total_limit\n",
      "***** Running Evaluation *****\n",
      "  Num examples = 485\n",
      "  Batch size = 16\n",
      "Saving model checkpoint to FINBERT_TUTORIAL_MODEL\\checkpoint-400\n",
      "Configuration saved in FINBERT_TUTORIAL_MODEL\\checkpoint-400\\config.json\n",
      "Model weights saved in FINBERT_TUTORIAL_MODEL\\checkpoint-400\\pytorch_model.bin\n",
      "Deleting older checkpoint [FINBERT_TUTORIAL_MODEL\\checkpoint-550] due to args.save_total_limit\n",
      "***** Running Evaluation *****\n",
      "  Num examples = 485\n",
      "  Batch size = 16\n",
      "Saving model checkpoint to FINBERT_TUTORIAL_MODEL\\checkpoint-450\n",
      "Configuration saved in FINBERT_TUTORIAL_MODEL\\checkpoint-450\\config.json\n",
      "Model weights saved in FINBERT_TUTORIAL_MODEL\\checkpoint-450\\pytorch_model.bin\n",
      "Deleting older checkpoint [FINBERT_TUTORIAL_MODEL\\checkpoint-600] due to args.save_total_limit\n",
      "\n",
      "\n",
      "Training completed. Do not forget to share your model on huggingface.co/models =)\n",
      "\n",
      "\n",
      "Loading best model from FINBERT_TUTORIAL_MODEL\\checkpoint-300 (score: 0.6865979381443299).\n"
     ]
    },
    {
     "data": {
      "text/plain": [
       "TrainOutput(global_step=450, training_loss=0.7465708414713542, metrics={'train_runtime': 542.187, 'train_samples_per_second': 335.032, 'train_steps_per_second': 5.256, 'total_flos': 1887509880426240.0, 'train_loss': 0.7465708414713542, 'epoch': 7.89})"
      ]
     },
     "execution_count": 32,
     "metadata": {},
     "output_type": "execute_result"
    }
   ],
   "source": [
    "trainer.train()"
   ]
  },
  {
   "cell_type": "code",
   "execution_count": 33,
   "id": "7195e22d-7a56-4ec3-a1d8-9487a1a55d14",
   "metadata": {},
   "outputs": [
    {
     "name": "stderr",
     "output_type": "stream",
     "text": [
      "***** Running Evaluation *****\n",
      "  Num examples = 727\n",
      "  Batch size = 16\n"
     ]
    },
    {
     "data": {
      "text/html": [
       "\n",
       "    <div>\n",
       "      \n",
       "      <progress value='92' max='46' style='width:300px; height:20px; vertical-align: middle;'></progress>\n",
       "      [46/46 00:12]\n",
       "    </div>\n",
       "    "
      ],
      "text/plain": [
       "<IPython.core.display.HTML object>"
      ]
     },
     "metadata": {},
     "output_type": "display_data"
    },
    {
     "data": {
      "text/plain": [
       "{'eval_loss': 0.7873842716217041,\n",
       " 'eval_accuracy': 0.6905089408528198,\n",
       " 'eval_precision': 0.6117529178439484,\n",
       " 'eval_recall': 0.5410243125382639,\n",
       " 'eval_f1': 0.5588630727695495,\n",
       " 'eval_runtime': 6.5328,\n",
       " 'eval_samples_per_second': 111.285,\n",
       " 'eval_steps_per_second': 7.041,\n",
       " 'epoch': 7.89}"
      ]
     },
     "execution_count": 33,
     "metadata": {},
     "output_type": "execute_result"
    }
   ],
   "source": [
    "trainer.evaluate(test_ds)"
   ]
  },
  {
   "cell_type": "code",
   "execution_count": 34,
   "id": "8e8c8ad7-d2da-4bc8-a879-dcfb67e33125",
   "metadata": {},
   "outputs": [
    {
     "name": "stderr",
     "output_type": "stream",
     "text": [
      "***** Running Prediction *****\n",
      "  Num examples = 727\n",
      "  Batch size = 16\n"
     ]
    }
   ],
   "source": [
    "predictions = trainer.predict(test_ds)"
   ]
  },
  {
   "cell_type": "code",
   "execution_count": 35,
   "id": "f4749925-a0ab-4567-9551-883ce58b1cf7",
   "metadata": {},
   "outputs": [
    {
     "data": {
      "text/plain": [
       "<AxesSubplot:>"
      ]
     },
     "execution_count": 35,
     "metadata": {},
     "output_type": "execute_result"
    },
    {
     "data": {
      "image/png": "[encoded data removed]",
      "text/plain": [
       "<Figure size 432x288 with 2 Axes>"
      ]
     },
     "metadata": {
      "needs_background": "light"
     },
     "output_type": "display_data"
    }
   ],
   "source": [
    "output = np.argmax(predictions.predictions,1)\n",
    "sns.heatmap(confusion_matrix(test.label.values,output),annot =confusion_matrix(test.label.values,output))#,labels = ['1','-1','0']"
   ]
  },
  {
   "cell_type": "markdown",
   "id": "88903b98",
   "metadata": {},
   "source": [
    "## 4. Visualisation"
   ]
  },
  {
   "cell_type": "code",
   "execution_count": 182,
   "id": "abe53179",
   "metadata": {},
   "outputs": [],
   "source": [
    "from transformers import AutoModelForSequenceClassification, AutoTokenizer\n",
    "from transformers_interpret import SequenceClassificationExplainer"
   ]
  },
  {
   "cell_type": "markdown",
   "id": "f6847a80",
   "metadata": {},
   "source": [
    "To visualise which words in each phrase are the most important for the prediction we will use the python package transformers_interpret "
   ]
  },
  {
   "cell_type": "code",
   "execution_count": 183,
   "id": "7cd84b54",
   "metadata": {},
   "outputs": [],
   "source": [
    "fin_model_name = \"ProsusAI/finbert\"\n",
    "model_name = \"textattack/bert-base-uncased-SST-2\"\n",
    "\n",
    "\n",
    "fin_model = AutoModelForSequenceClassification.from_pretrained(fin_model_name)\n",
    "fin_tokenizer = AutoTokenizer.from_pretrained(fin_model_name)\n",
    "model = AutoModelForSequenceClassification.from_pretrained(model_name)\n",
    "tokenizer = AutoTokenizer.from_pretrained(model_name)"
   ]
  },
  {
   "cell_type": "code",
   "execution_count": 184,
   "id": "be06563e",
   "metadata": {},
   "outputs": [],
   "source": [
    "# With both the model and tokenizer initialized we are now able to get explanations on an example text.\n",
    "cls_explainer = SequenceClassificationExplainer(model,\n",
    "                                                tokenizer)\n",
    "\n",
    "fin_cls_explainer = SequenceClassificationExplainer(fin_model,\n",
    "                                                    fin_tokenizer)"
   ]
  },
  {
   "cell_type": "code",
   "execution_count": null,
   "id": "9979f669",
   "metadata": {},
   "outputs": [],
   "source": []
  },
  {
   "cell_type": "code",
   "execution_count": 185,
   "id": "0ff99d9d",
   "metadata": {},
   "outputs": [],
   "source": [
    "word_attributions = cls_explainer(\"Pharmaceuticals group Orion Corp reported a fall in its third-quarter earnings that were hit by larger expenditures on R&D and marketing\")\n",
    "word_attributions = fin_cls_explainer(\"Pharmaceuticals group Orion Corp reported a fall in its third-quarter earnings that were hit by larger expenditures on R&D and marketing\")"
   ]
  },
  {
   "cell_type": "code",
   "execution_count": null,
   "id": "ecaf21c2",
   "metadata": {},
   "outputs": [
    {
     "data": {
      "text/plain": [
       "'LABEL_0'"
      ]
     },
     "execution_count": 186,
     "metadata": {},
     "output_type": "execute_result"
    }
   ],
   "source": [
    "cls_explainer.predicted_class_name"
   ]
  },
  {
   "cell_type": "code",
   "execution_count": 187,
   "id": "4a6dda98",
   "metadata": {},
   "outputs": [
    {
     "data": {
      "text/html": [
       "<table width: 100%><div style=\"border-top: 1px solid; margin-top: 5px;             padding-top: 5px; display: inline-block\"><b>Legend: </b><span style=\"display: inline-block; width: 10px; height: 10px;                 border: 1px solid; background-color:                 hsl(0, 75%, 60%)\"></span> Negative  <span style=\"display: inline-block; width: 10px; height: 10px;                 border: 1px solid; background-color:                 hsl(0, 75%, 100%)\"></span> Neutral  <span style=\"display: inline-block; width: 10px; height: 10px;                 border: 1px solid; background-color:                 hsl(120, 75%, 50%)\"></span> Positive  </div><tr><th>True Label</th><th>Predicted Label</th><th>Attribution Label</th><th>Attribution Score</th><th>Word Importance</th><tr><td><text style=\"padding-right:2em\"><b>0</b></text></td><td><text style=\"padding-right:2em\"><b>LABEL_0 (0.99)</b></text></td><td><text style=\"padding-right:2em\"><b>LABEL_0</b></text></td><td><text style=\"padding-right:2em\"><b>1.37</b></text></td><td><mark style=\"background-color: hsl(0, 75%, 100%); opacity:1.0;                     line-height:1.75\"><font color=\"black\"> [CLS]                    </font></mark><mark style=\"background-color: hsl(0, 75%, 100%); opacity:1.0;                     line-height:1.75\"><font color=\"black\"> pharmaceuticals                    </font></mark><mark style=\"background-color: hsl(120, 75%, 86%); opacity:1.0;                     line-height:1.75\"><font color=\"black\"> group                    </font></mark><mark style=\"background-color: hsl(0, 75%, 94%); opacity:1.0;                     line-height:1.75\"><font color=\"black\"> orion                    </font></mark><mark style=\"background-color: hsl(0, 75%, 100%); opacity:1.0;                     line-height:1.75\"><font color=\"black\"> corp                    </font></mark><mark style=\"background-color: hsl(0, 75%, 100%); opacity:1.0;                     line-height:1.75\"><font color=\"black\"> reported                    </font></mark><mark style=\"background-color: hsl(0, 75%, 100%); opacity:1.0;                     line-height:1.75\"><font color=\"black\"> a                    </font></mark><mark style=\"background-color: hsl(120, 75%, 96%); opacity:1.0;                     line-height:1.75\"><font color=\"black\"> fall                    </font></mark><mark style=\"background-color: hsl(0, 75%, 100%); opacity:1.0;                     line-height:1.75\"><font color=\"black\"> in                    </font></mark><mark style=\"background-color: hsl(0, 75%, 99%); opacity:1.0;                     line-height:1.75\"><font color=\"black\"> its                    </font></mark><mark style=\"background-color: hsl(0, 75%, 98%); opacity:1.0;                     line-height:1.75\"><font color=\"black\"> third                    </font></mark><mark style=\"background-color: hsl(120, 75%, 97%); opacity:1.0;                     line-height:1.75\"><font color=\"black\"> -                    </font></mark><mark style=\"background-color: hsl(0, 75%, 99%); opacity:1.0;                     line-height:1.75\"><font color=\"black\"> quarter                    </font></mark><mark style=\"background-color: hsl(0, 75%, 95%); opacity:1.0;                     line-height:1.75\"><font color=\"black\"> earnings                    </font></mark><mark style=\"background-color: hsl(120, 75%, 96%); opacity:1.0;                     line-height:1.75\"><font color=\"black\"> that                    </font></mark><mark style=\"background-color: hsl(120, 75%, 90%); opacity:1.0;                     line-height:1.75\"><font color=\"black\"> were                    </font></mark><mark style=\"background-color: hsl(120, 75%, 80%); opacity:1.0;                     line-height:1.75\"><font color=\"black\"> hit                    </font></mark><mark style=\"background-color: hsl(120, 75%, 65%); opacity:1.0;                     line-height:1.75\"><font color=\"black\"> by                    </font></mark><mark style=\"background-color: hsl(0, 75%, 94%); opacity:1.0;                     line-height:1.75\"><font color=\"black\"> larger                    </font></mark><mark style=\"background-color: hsl(120, 75%, 89%); opacity:1.0;                     line-height:1.75\"><font color=\"black\"> expenditures                    </font></mark><mark style=\"background-color: hsl(120, 75%, 100%); opacity:1.0;                     line-height:1.75\"><font color=\"black\"> on                    </font></mark><mark style=\"background-color: hsl(0, 75%, 100%); opacity:1.0;                     line-height:1.75\"><font color=\"black\"> r                    </font></mark><mark style=\"background-color: hsl(120, 75%, 100%); opacity:1.0;                     line-height:1.75\"><font color=\"black\"> &                    </font></mark><mark style=\"background-color: hsl(120, 75%, 94%); opacity:1.0;                     line-height:1.75\"><font color=\"black\"> d                    </font></mark><mark style=\"background-color: hsl(0, 75%, 92%); opacity:1.0;                     line-height:1.75\"><font color=\"black\"> and                    </font></mark><mark style=\"background-color: hsl(120, 75%, 99%); opacity:1.0;                     line-height:1.75\"><font color=\"black\"> marketing                    </font></mark><mark style=\"background-color: hsl(0, 75%, 100%); opacity:1.0;                     line-height:1.75\"><font color=\"black\"> [SEP]                    </font></mark></td><tr></table>"
      ],
      "text/plain": [
       "<IPython.core.display.HTML object>"
      ]
     },
     "metadata": {},
     "output_type": "display_data"
    }
   ],
   "source": [
    "bert_vis = cls_explainer.visualize()"
   ]
  },
  {
   "cell_type": "code",
   "execution_count": 188,
   "id": "050d7ea2",
   "metadata": {},
   "outputs": [
    {
     "data": {
      "text/html": [
       "<table width: 100%><div style=\"border-top: 1px solid; margin-top: 5px;             padding-top: 5px; display: inline-block\"><b>Legend: </b><span style=\"display: inline-block; width: 10px; height: 10px;                 border: 1px solid; background-color:                 hsl(0, 75%, 60%)\"></span> Negative  <span style=\"display: inline-block; width: 10px; height: 10px;                 border: 1px solid; background-color:                 hsl(0, 75%, 100%)\"></span> Neutral  <span style=\"display: inline-block; width: 10px; height: 10px;                 border: 1px solid; background-color:                 hsl(120, 75%, 50%)\"></span> Positive  </div><tr><th>True Label</th><th>Predicted Label</th><th>Attribution Label</th><th>Attribution Score</th><th>Word Importance</th><tr><td><text style=\"padding-right:2em\"><b>1</b></text></td><td><text style=\"padding-right:2em\"><b>negative (0.98)</b></text></td><td><text style=\"padding-right:2em\"><b>negative</b></text></td><td><text style=\"padding-right:2em\"><b>2.61</b></text></td><td><mark style=\"background-color: hsl(0, 75%, 100%); opacity:1.0;                     line-height:1.75\"><font color=\"black\"> [CLS]                    </font></mark><mark style=\"background-color: hsl(0, 75%, 99%); opacity:1.0;                     line-height:1.75\"><font color=\"black\"> pharmaceuticals                    </font></mark><mark style=\"background-color: hsl(120, 75%, 95%); opacity:1.0;                     line-height:1.75\"><font color=\"black\"> group                    </font></mark><mark style=\"background-color: hsl(120, 75%, 99%); opacity:1.0;                     line-height:1.75\"><font color=\"black\"> orion                    </font></mark><mark style=\"background-color: hsl(120, 75%, 92%); opacity:1.0;                     line-height:1.75\"><font color=\"black\"> corp                    </font></mark><mark style=\"background-color: hsl(120, 75%, 79%); opacity:1.0;                     line-height:1.75\"><font color=\"black\"> reported                    </font></mark><mark style=\"background-color: hsl(120, 75%, 97%); opacity:1.0;                     line-height:1.75\"><font color=\"black\"> a                    </font></mark><mark style=\"background-color: hsl(120, 75%, 78%); opacity:1.0;                     line-height:1.75\"><font color=\"black\"> fall                    </font></mark><mark style=\"background-color: hsl(120, 75%, 84%); opacity:1.0;                     line-height:1.75\"><font color=\"black\"> in                    </font></mark><mark style=\"background-color: hsl(120, 75%, 94%); opacity:1.0;                     line-height:1.75\"><font color=\"black\"> its                    </font></mark><mark style=\"background-color: hsl(120, 75%, 100%); opacity:1.0;                     line-height:1.75\"><font color=\"black\"> third                    </font></mark><mark style=\"background-color: hsl(120, 75%, 99%); opacity:1.0;                     line-height:1.75\"><font color=\"black\"> -                    </font></mark><mark style=\"background-color: hsl(0, 75%, 99%); opacity:1.0;                     line-height:1.75\"><font color=\"black\"> quarter                    </font></mark><mark style=\"background-color: hsl(0, 75%, 100%); opacity:1.0;                     line-height:1.75\"><font color=\"black\"> earnings                    </font></mark><mark style=\"background-color: hsl(0, 75%, 97%); opacity:1.0;                     line-height:1.75\"><font color=\"black\"> that                    </font></mark><mark style=\"background-color: hsl(120, 75%, 86%); opacity:1.0;                     line-height:1.75\"><font color=\"black\"> were                    </font></mark><mark style=\"background-color: hsl(120, 75%, 80%); opacity:1.0;                     line-height:1.75\"><font color=\"black\"> hit                    </font></mark><mark style=\"background-color: hsl(120, 75%, 81%); opacity:1.0;                     line-height:1.75\"><font color=\"black\"> by                    </font></mark><mark style=\"background-color: hsl(120, 75%, 100%); opacity:1.0;                     line-height:1.75\"><font color=\"black\"> larger                    </font></mark><mark style=\"background-color: hsl(0, 75%, 100%); opacity:1.0;                     line-height:1.75\"><font color=\"black\"> expenditures                    </font></mark><mark style=\"background-color: hsl(0, 75%, 99%); opacity:1.0;                     line-height:1.75\"><font color=\"black\"> on                    </font></mark><mark style=\"background-color: hsl(120, 75%, 99%); opacity:1.0;                     line-height:1.75\"><font color=\"black\"> r                    </font></mark><mark style=\"background-color: hsl(120, 75%, 100%); opacity:1.0;                     line-height:1.75\"><font color=\"black\"> &                    </font></mark><mark style=\"background-color: hsl(120, 75%, 97%); opacity:1.0;                     line-height:1.75\"><font color=\"black\"> d                    </font></mark><mark style=\"background-color: hsl(0, 75%, 97%); opacity:1.0;                     line-height:1.75\"><font color=\"black\"> and                    </font></mark><mark style=\"background-color: hsl(0, 75%, 100%); opacity:1.0;                     line-height:1.75\"><font color=\"black\"> marketing                    </font></mark><mark style=\"background-color: hsl(0, 75%, 100%); opacity:1.0;                     line-height:1.75\"><font color=\"black\"> [SEP]                    </font></mark></td><tr></table>"
      ],
      "text/plain": [
       "<IPython.core.display.HTML object>"
      ]
     },
     "metadata": {},
     "output_type": "display_data"
    }
   ],
   "source": [
    "fin_bert_vis = fin_cls_explainer.visualize()"
   ]
  },
  {
   "cell_type": "code",
   "execution_count": null,
   "id": "0e72ac68",
   "metadata": {},
   "outputs": [],
   "source": []
  },
  {
   "cell_type": "code",
   "execution_count": null,
   "id": "f723887c",
   "metadata": {},
   "outputs": [],
   "source": []
  }
 ],
 "metadata": {
  "kernelspec": {
   "display_name": "Python 3 (ipykernel)",
   "language": "python",
   "name": "python3"
  },
  "language_info": {
   "codemirror_mode": {
    "name": "ipython",
    "version": 3
   },
   "file_extension": ".py",
   "mimetype": "text/x-python",
   "name": "python",
   "nbconvert_exporter": "python",
   "pygments_lexer": "ipython3",
   "version": "3.8.13"
  }
 },
 "nbformat": 4,
 "nbformat_minor": 5
}
